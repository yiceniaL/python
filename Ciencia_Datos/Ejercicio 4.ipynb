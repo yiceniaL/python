{
 "cells": [
  {
   "cell_type": "markdown",
   "id": "3e18229a",
   "metadata": {},
   "source": [
    "1. Cree una clase llamada Individuo. Sus atributos son: PrimerNombre, Edad y RUT.\n",
    "Construye los siguientes métodos para la clase:"
   ]
  },
  {
   "cell_type": "markdown",
   "id": "24057dca",
   "metadata": {},
   "source": [
    "- Un constructor, donde los datos pueden estar vacíos.\n",
    "- Los setters y getters para cada uno de los atributos. Hay que validar las entradas de datos.\n",
    "- revelar( ) : Revela la información de la persona.\n",
    "- Adulto( ) : Entrega un valor lógico sí es o no adulto (mayor de 18 años).\n"
   ]
  },
  {
   "cell_type": "code",
   "execution_count": 32,
   "id": "2d33d2d4",
   "metadata": {},
   "outputs": [
    {
     "name": "stdout",
     "output_type": "stream",
     "text": [
      "Es mayor de edad\n",
      "El nombre de la individuo es: Yicenia Leyton\n",
      "La edad de la individuo es: 18\n",
      "El rut de la individuo es: 19.432.332-8\n"
     ]
    }
   ],
   "source": [
    "# Definimos una clase Individuo\n",
    "class Individuo:\n",
    "    nombre = ''\n",
    "    edad = 0\n",
    "    rut = ''\n",
    " \n",
    "    # Se definen las construcciones para cada uno\n",
    "    def __init__(self,nombre=\"\",edad=0,rut=\"\"):\n",
    "        self.nombre=nombre\n",
    "        self.edad=edad\n",
    "        self.rut=rut\n",
    "    #Definimos las condiciones\n",
    "    def setNombre(self, nombre):\n",
    "        self.nombre = nombre\n",
    "    #Se define las condiciones de la edad y si es mayor de edad\n",
    "    def setEdad(self, edad):\n",
    "        self.edad = edad\n",
    "        if edad < 0:\n",
    "            print(\"Error en la edad\")\n",
    "            self.edad= \"-\"\n",
    "        else:\n",
    "            self.edad=edad\n",
    "            if edad >= 18:\n",
    "                print(\"Es mayor de edad\")\n",
    "                self.edad=edad\n",
    "            else:\n",
    "                print(\"No es mayor de edad\")\n",
    "                self.edad=edad\n",
    "     #Se definen las condciiones del RUT\n",
    "    def setRut(self, rut):\n",
    "        self.rut = rut\n",
    "        if len(self.rut)<11:\n",
    "            print(\"Error en el rut\")\n",
    "            self.rut= \"-\"\n",
    "        elif len(self.rut)>12:\n",
    "            print(\"Error en el rut\")\n",
    "            self.rut= \"-\"\n",
    "        else:\n",
    "            self.rut=rut\n",
    "     #Definimos los obtenedores\n",
    "    def getNombre(self):\n",
    "        return self.nombre\n",
    "    \n",
    "    def getEdad(self):\n",
    "        return self.edad\n",
    " \n",
    "    def getRut(self):\n",
    "        return self.rut\n",
    " \n",
    "    #Mostrar en pantalla los datos\n",
    "    def revelar(self):\n",
    "        print('El nombre de la individuo es: ' + self.nombre)\n",
    "        print('La edad de la individuo es: ' + str(self.edad))\n",
    "        print('El rut de la individuo es: ' + self.rut)      \n",
    "        \n",
    "#Construcores de la clase Individuo\n",
    "a = Individuo(\"Yicenia Leyton\")\n",
    "a.setRut('19.432.332-8')\n",
    "a.setEdad(18) \n",
    "\n",
    "#Datos a revelar\n",
    "a.revelar()"
   ]
  },
  {
   "cell_type": "markdown",
   "id": "dd24ac1f",
   "metadata": {},
   "source": [
    "2. Cree una clase que nombrará Cliente con los siguientes atributos; persona (puede ser el titular de una cuenta) y monto (puede tener decimales). El atributo persona será obligatorio y el monto es opcional. Debe considerar lo siguiente para la clase pedida:"
   ]
  },
  {
   "cell_type": "markdown",
   "id": "95675c04",
   "metadata": {},
   "source": [
    "- Un constructor, donde los datos pueden estar vacíos.\n",
    "- Los setters y getters para cada uno de los atributos. El atributo no se puede modificar directamente, sólo ingresando\n",
    "o retirando dinero.\n",
    "- revelar() : Revela la información del Cliente.\n",
    "- Ingresar(monto) : Registra el monto del cliente para una cuenta, si el número que ingresa es negativo, no hará nada.\n",
    "- retirar(monto) : Registra un posible retiro de la cuenta del cliente. El cliente puede tener un saldo negativo."
   ]
  },
  {
   "cell_type": "code",
   "execution_count": 33,
   "id": "12f2d589",
   "metadata": {},
   "outputs": [
    {
     "name": "stdout",
     "output_type": "stream",
     "text": [
      "El cliente titular de la cuenta es: Yicenia Leyton\n",
      "El monto del cliente es : $590.0\n",
      "El monto ingresado por el cliente es : $100.0\n",
      "El monto retirado por el cliente es : $10.0\n"
     ]
    }
   ],
   "source": [
    "# Definimos una clase Cliente\n",
    "class Cliente:\n",
    "    \n",
    "    # Se definen las construcciones para cada uno\n",
    "    def __init__(self,persona=\"\", monto=0,ingresa=0, retira=0):\n",
    "        self.persona=persona\n",
    "        self.ingresa=ingresa  \n",
    "        self.retira=retira\n",
    "        self.monto=monto\n",
    "             \n",
    "    #Definimos las condiciones\n",
    "    def setPersona(self, persona):\n",
    "        self.persona = persona\n",
    "    #Se define que pasa si el monto ingresado es negativo    \n",
    "    def setIngresa(self, ingresa):\n",
    "        self.ingresa = float(ingresa)\n",
    "        if ingresa < 0:\n",
    "            self.ingresa = 0\n",
    "            print(\"El monto ingresado es negativo\")\n",
    "        \n",
    "    def setRetira(self, retira):\n",
    "        self.retira = float(retira)\n",
    "        \n",
    "    #Se define las condiciones del monto\n",
    "    def setMonto(self, monto):\n",
    "        self.monto = float(monto)\n",
    "        self.monto= self.monto + self.ingresa - self.retira\n",
    "\n",
    "    #Definimos los obtenedores\n",
    "    def getPersona(self):\n",
    "        return self.persona\n",
    "    \n",
    "    def getMonto(self):\n",
    "        return self.monto\n",
    "    \n",
    "    def getIngresa(self):\n",
    "        return self.ingresa\n",
    "    \n",
    "    def getIngresa(self):\n",
    "        return self.retira\n",
    "      \n",
    "    #Mostrar en pantalla los datos\n",
    "    def revelar(self):\n",
    "        \n",
    "        print('El cliente titular de la cuenta es: ' + self.persona)\n",
    "        print('El monto del cliente es : $' + str(self.monto)) \n",
    "        print('El monto ingresado por el cliente es : $' + str(self.ingresa)) \n",
    "        print('El monto retirado por el cliente es : $' + str(self.retira)) \n",
    "        \n",
    "#Construcores de la clase Cliente\n",
    "a = Cliente(\"Yicenia Leyton\")\n",
    "a.setIngresa(100) \n",
    "a.setRetira(10)\n",
    "a.setMonto(500) \n",
    "\n",
    "\n",
    "#Datos del objeto Cliente\n",
    "a.revelar()"
   ]
  }
 ],
 "metadata": {
  "kernelspec": {
   "display_name": "Python 3 (ipykernel)",
   "language": "python",
   "name": "python3"
  },
  "language_info": {
   "codemirror_mode": {
    "name": "ipython",
    "version": 3
   },
   "file_extension": ".py",
   "mimetype": "text/x-python",
   "name": "python",
   "nbconvert_exporter": "python",
   "pygments_lexer": "ipython3",
   "version": "3.10.9"
  }
 },
 "nbformat": 4,
 "nbformat_minor": 5
}
