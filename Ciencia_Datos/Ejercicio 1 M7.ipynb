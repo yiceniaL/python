{
 "cells": [
  {
   "cell_type": "markdown",
   "id": "2cb2585b",
   "metadata": {},
   "source": [
    "Ejercicio Guiado: Clasificación de prendas de vestir\n",
    "\n",
    "La empresa Mnist Fashion cuenta con 60.000 imágenes para ser entrenadas y\n",
    "cuenta con otras 10.000 imágenes que sirven para evaluar la precisión de\n",
    "nuestro modelo en clasificar las prendas, cabe resaltar que todas las imágenes\n",
    "están con una dimensión de 28 por 28px y tenemos 10 tipos de clases de ellas,\n",
    "donde podemos encontrar abrigos, poleras, zapatillas, tacones, entre otros."
   ]
  },
  {
   "cell_type": "markdown",
   "id": "e5fec6ae",
   "metadata": {},
   "source": [
    "1. Instale el ambiente de Tensorflow"
   ]
  },
  {
   "cell_type": "markdown",
   "id": "f4240b99",
   "metadata": {},
   "source": [
    "2. Carga de la data"
   ]
  },
  {
   "cell_type": "markdown",
   "id": "cdcaf685",
   "metadata": {},
   "source": [
    "3. Descripción de la base de datos"
   ]
  },
  {
   "cell_type": "markdown",
   "id": "76075c93",
   "metadata": {},
   "source": [
    "4. Configuración de la red neuronal"
   ]
  },
  {
   "cell_type": "markdown",
   "id": "d637b59c",
   "metadata": {},
   "source": [
    "5. Compilación de la red neuronal"
   ]
  },
  {
   "cell_type": "markdown",
   "id": "baac954c",
   "metadata": {},
   "source": [
    "6. Entrenamiento de la red"
   ]
  },
  {
   "cell_type": "markdown",
   "id": "01674f7a",
   "metadata": {},
   "source": [
    "7. Predicción y conclusión."
   ]
  },
  {
   "cell_type": "code",
   "execution_count": null,
   "id": "edda4ce8",
   "metadata": {},
   "outputs": [],
   "source": []
  }
 ],
 "metadata": {
  "kernelspec": {
   "display_name": "Python 3 (ipykernel)",
   "language": "python",
   "name": "python3"
  },
  "language_info": {
   "codemirror_mode": {
    "name": "ipython",
    "version": 3
   },
   "file_extension": ".py",
   "mimetype": "text/x-python",
   "name": "python",
   "nbconvert_exporter": "python",
   "pygments_lexer": "ipython3",
   "version": "3.10.9"
  }
 },
 "nbformat": 4,
 "nbformat_minor": 5
}
