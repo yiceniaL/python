{
 "cells": [
  {
   "cell_type": "markdown",
   "id": "8cac678f",
   "metadata": {},
   "source": [
    "Caso: Una compañía desea hacer predicciones del valor anual de sus ventas totales en cierto país a partir de la relación de éstas y la renta nacional. Para investigar la relación cuenta con los siguientes datos:"
   ]
  },
  {
   "cell_type": "markdown",
   "id": "5822795d",
   "metadata": {},
   "source": [
    "X Y\n",
    "189 402\n",
    "190 404\n",
    "208 412\n",
    "227 425\n",
    "239 429\n",
    "252 436\n",
    "257 440\n",
    "274 447\n",
    "293 458\n",
    "308 469\n",
    "316 469"
   ]
  },
  {
   "cell_type": "markdown",
   "id": "fafb0645",
   "metadata": {},
   "source": [
    "X representa la renta nacional en millones de euros e Y representa las ventas de la compañía en miles de euros en el periodo que va desde 2010 hasta 2020 (ambos inclusive). Calcular:"
   ]
  },
  {
   "cell_type": "markdown",
   "id": "e007de70",
   "metadata": {},
   "source": [
    "    1. La recta de regresión lineal de Y sobre X."
   ]
  },
  {
   "cell_type": "code",
   "execution_count": 18,
   "id": "c40b9c05",
   "metadata": {},
   "outputs": [
    {
     "data": {
      "image/png": "[encoded data removed]",
      "text/plain": [
       "<Figure size 640x480 with 1 Axes>"
      ]
     },
     "metadata": {},
     "output_type": "display_data"
    }
   ],
   "source": [
    "#Importar librerias\n",
    "import numpy as np\n",
    "import matplotlib.pyplot as plt\n",
    "%matplotlib inline\n",
    "#Datos \n",
    "x = np.array([189, 190, 208, 227, 239, 252, 257, 274, 293, 308, 316])\n",
    "y = np.array([402, 404, 412, 425, 429, 436, 440, 447, 458, 469, 469])\n",
    "#Grafico\n",
    "plt.scatter(x, y, label= 'data', color = 'red')\n",
    "plt.title('Grafico de x,y')\n",
    "plt.xlabel('x')\n",
    "plt.ylabel('y')\n",
    "plt.show()"
   ]
  },
  {
   "cell_type": "markdown",
   "id": "d2851bf0",
   "metadata": {},
   "source": [
    "    2. El coeficiente de correlación lineal e interpretarlo."
   ]
  },
  {
   "cell_type": "code",
   "execution_count": 30,
   "id": "56d84c27",
   "metadata": {},
   "outputs": [
    {
     "name": "stdout",
     "output_type": "stream",
     "text": [
      "Intercepto = 301.6539857881726\n",
      "Pendiente = [0.53498226]\n",
      "Coeficiente de correlacion = 0.9984246043304555\n",
      "\n",
      "\n",
      "El coeficiente de correlacion es cercana a 1, por lo que se describe como una correlacion positiva directa fuerte, donde se puede indicar que el crecimiento de la variable x se asocia con un crecimiento en la variable y. \n"
     ]
    }
   ],
   "source": [
    "from sklearn.linear_model import LinearRegression\n",
    "regresionLineal = LinearRegression()\n",
    "regresionLineal.fit(x.reshape(-1,1), y)\n",
    "coef = np.corrcoef(x,y)\n",
    "print(\"Intercepto = \" + str(regresionLineal.intercept_))\n",
    "print(\"Pendiente = \" + str(regresionLineal.coef_))\n",
    "print(\"Coeficiente de correlacion = \" + str(coef[0,1]))\n",
    "print(f\"\\n\")\n",
    "print(\"El coeficiente de correlacion es cercana a 1, por lo que se describe como una correlacion positiva directa fuerte, donde se puede indicar que el crecimiento de la variable x se asocia con un crecimiento en la variable y. \")"
   ]
  },
  {
   "cell_type": "markdown",
   "id": "979f2df1",
   "metadata": {},
   "source": [
    "3. Si en 2011 la renta nacional del país fue de 325 millones de euros. ¿Cuál será la predicción para las ventas de la compañía en este año?"
   ]
  },
  {
   "cell_type": "code",
   "execution_count": 39,
   "id": "a3f2bffe",
   "metadata": {},
   "outputs": [
    {
     "name": "stdout",
     "output_type": "stream",
     "text": [
      "[475.52321964]\n",
      "\n",
      "\n",
      "La predicción para las ventas de la compañía en este año es de 475 millones de euros\n"
     ]
    }
   ],
   "source": [
    "# vamos a predicir y = regresion_lineal(5)\n",
    "nuevo_x = np.array([325]) \n",
    "prediccion = regresionLineal.predict(nuevo_x.reshape(-1,1))\n",
    "print(prediccion)\n",
    "print(f\"\\n\")\n",
    "print(\"La predicción para las ventas de la compañía en este año es de 475 millones de euros\")"
   ]
  }
 ],
 "metadata": {
  "kernelspec": {
   "display_name": "Python 3 (ipykernel)",
   "language": "python",
   "name": "python3"
  },
  "language_info": {
   "codemirror_mode": {
    "name": "ipython",
    "version": 3
   },
   "file_extension": ".py",
   "mimetype": "text/x-python",
   "name": "python",
   "nbconvert_exporter": "python",
   "pygments_lexer": "ipython3",
   "version": "3.10.9"
  }
 },
 "nbformat": 4,
 "nbformat_minor": 5
}
