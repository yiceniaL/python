{
 "cells": [
  {
   "cell_type": "markdown",
   "id": "7956e048",
   "metadata": {},
   "source": [
    "Clasificación y Clusterización\n",
    "\n",
    "Suponemos que el conjunto de datos se genera a partir de diferentes\n",
    "distribuciones multivariantes gaussianas.\n",
    "\n",
    "Adjunto usted encontrará un documento .ipynb, donde encontrará los datos que\n",
    "debe trabajar."
   ]
  },
  {
   "cell_type": "markdown",
   "id": "85601be1",
   "metadata": {},
   "source": [
    "1. Reanalice su datos y obtenga 2 y 3 cluster."
   ]
  },
  {
   "cell_type": "markdown",
   "id": "ba917612",
   "metadata": {},
   "source": [
    "2. Concluya lo obtenido y grafique lo pedido en 1."
   ]
  },
  {
   "cell_type": "code",
   "execution_count": null,
   "id": "9583bcde",
   "metadata": {},
   "outputs": [],
   "source": []
  }
 ],
 "metadata": {
  "kernelspec": {
   "display_name": "Python 3 (ipykernel)",
   "language": "python",
   "name": "python3"
  },
  "language_info": {
   "codemirror_mode": {
    "name": "ipython",
    "version": 3
   },
   "file_extension": ".py",
   "mimetype": "text/x-python",
   "name": "python",
   "nbconvert_exporter": "python",
   "pygments_lexer": "ipython3",
   "version": "3.10.9"
  }
 },
 "nbformat": 4,
 "nbformat_minor": 5
}
