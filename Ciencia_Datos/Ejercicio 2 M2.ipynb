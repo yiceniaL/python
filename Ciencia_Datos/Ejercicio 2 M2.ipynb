{
 "cells": [
  {
   "cell_type": "markdown",
   "id": "1868e680",
   "metadata": {},
   "source": [
    "1. Escribir un programa que pregunte al usuario por las ventas de un rango de años y muestre por pantalla una serie con los datos de las ventas indexada por los años, antes y después de aplicarles un descuento del 10%."
   ]
  },
  {
   "cell_type": "code",
   "execution_count": 20,
   "id": "2652f2d4",
   "metadata": {},
   "outputs": [
    {
     "name": "stdout",
     "output_type": "stream",
     "text": [
      "Indica el año inicial 2021\n",
      "Indica el año final 2023\n",
      "\n",
      "\n",
      "Indica las ventas del año 2021 $564\n",
      "Indica las ventas del año 2022 $54\n",
      "Indica las ventas del año 2023 $8\n",
      "\n",
      "\n",
      "Año  Venta\n",
      "0    564.0\n",
      "1     54.0\n",
      "2      8.0\n",
      "dtype: float64\n",
      "\n",
      "\n",
      "Descuento del 10%\n",
      "Año  Venta\n",
      "0    507.6\n",
      "1     48.6\n",
      "2      7.2\n",
      "dtype: float64\n"
     ]
    }
   ],
   "source": [
    "#Importar panda\n",
    "import pandas as pd\n",
    "#Ingresa los valores de los años\n",
    "ainicial = int(input(\"Indica el año inicial \"))\n",
    "afinal = int(input(\"Indica el año final \"))\n",
    "print(f\"\\n\")\n",
    "#Valor del rango del for\n",
    "a = afinal - ainicial + 1\n",
    "v = {}\n",
    "#Incia el ciclo para consultar sobre los ingresos en los años\n",
    "for i in range(a):\n",
    "    v[i] = float(input(\"Indica las ventas del año \" + str(ainicial) + \" $\"))\n",
    "    ainicial = ainicial + 1\n",
    "v = pd.Series(v)\n",
    "#Mostrar al primera tabla\n",
    "print(f\"\\n\")\n",
    "print(\"Año  Venta\")\n",
    "print(v)\n",
    "#Mostrar la segunda tabla\n",
    "print(f\"\\n\")\n",
    "print(\"Descuento del 10%\")\n",
    "print(\"Año  Venta\")\n",
    "print(v*0.9)"
   ]
  },
  {
   "cell_type": "markdown",
   "id": "0895fc5f",
   "metadata": {},
   "source": [
    "2. Escribir una función que reciba un diccionario con las notas de los alumnos en curso en un examen y devuelva una serie con la nota mínima, la máxima, media y la desviación típica."
   ]
  },
  {
   "cell_type": "code",
   "execution_count": 29,
   "id": "8431dd7b",
   "metadata": {},
   "outputs": [
    {
     "name": "stdout",
     "output_type": "stream",
     "text": [
      "Nota minima                       4.20\n",
      "Nota maxima                       6.70\n",
      "Nota Promedio                     5.80\n",
      "Desviación típica de las notas    1.39\n",
      "dtype: float64\n"
     ]
    }
   ],
   "source": [
    "#Definir eldiccionario con las notas de los alumnos\n",
    "Notas = {'Yicenia':4.2,\n",
    "         'Erick':6.5,\n",
    "         'Mackarena':6.7}\n",
    "#Definir la funcion \n",
    "def Estadistica(Notas):\n",
    "    Notas = pd.Series(Notas)   \n",
    "    #Funcioines que calculan \n",
    "    estadistica = pd.Series([Notas.min(), Notas.max(), Notas.mean(), Notas.std()], \n",
    "                             index=['Nota minima', 'Nota maxima', 'Nota Promedio', 'Desviación típica de las notas'])\n",
    "    return estadistica\n",
    "#Imprimir resultados\n",
    "print(round(Estadistica(Notas), 2))"
   ]
  },
  {
   "cell_type": "markdown",
   "id": "a42cb225",
   "metadata": {},
   "source": [
    "3. Escribir una función que reciba una diccionario con las notas de los alumnos en curso en un examen y devuelva una serie con las notas de los alumnos aprobados ordenadas de mayor a menor."
   ]
  },
  {
   "cell_type": "code",
   "execution_count": 33,
   "id": "a8981e2e",
   "metadata": {},
   "outputs": [
    {
     "name": "stdout",
     "output_type": "stream",
     "text": [
      "Mackarena    6.7\n",
      "Erick        6.5\n",
      "Yicenia      4.2\n",
      "dtype: float64\n"
     ]
    }
   ],
   "source": [
    "#Definir la funcion \n",
    "def orden(Notas):\n",
    "    Notas = pd.Series(Notas)\n",
    "    #Ordenar la serie\n",
    "    return Notas.sort_values(ascending=False)\n",
    "#Imprimir resultados\n",
    "print(orden(Notas))"
   ]
  },
  {
   "cell_type": "markdown",
   "id": "01f63322",
   "metadata": {},
   "source": [
    "4. Escribir programa que genere y muestre por pantalla un DataFrame con los datos de la tabla siguiente:\n",
    "\n",
    "Mes, Ventas, Gastos\n",
    "Enero, 30500, 22000 \n",
    "Febrero, 35600, 23400\n",
    "Marzo, 28300, 18100\n",
    "Abril, 33900, 20700"
   ]
  },
  {
   "cell_type": "code",
   "execution_count": 35,
   "id": "2f509ce7",
   "metadata": {},
   "outputs": [
    {
     "name": "stdout",
     "output_type": "stream",
     "text": [
      "       Mes  Ventas  Gastos\n",
      "0    Enero   30500   22000\n",
      "1  Febrero   35600   23400\n",
      "2    Marzo   28300   18100\n",
      "3    Abril   33900   20700\n"
     ]
    }
   ],
   "source": [
    "#Vlores escritos\n",
    "Valores = {'Mes':['Enero', 'Febrero', 'Marzo', 'Abril'],\n",
    "         'Ventas':[30500, 35600, 28300, 33900],\n",
    "         'Gastos':[22000, 23400, 18100, 20700]}\n",
    "#Crear y mostrar la tabla\n",
    "Tabla = pd.DataFrame(Valores)\n",
    "print(Tabla)"
   ]
  }
 ],
 "metadata": {
  "kernelspec": {
   "display_name": "Python 3 (ipykernel)",
   "language": "python",
   "name": "python3"
  },
  "language_info": {
   "codemirror_mode": {
    "name": "ipython",
    "version": 3
   },
   "file_extension": ".py",
   "mimetype": "text/x-python",
   "name": "python",
   "nbconvert_exporter": "python",
   "pygments_lexer": "ipython3",
   "version": "3.10.9"
  }
 },
 "nbformat": 4,
 "nbformat_minor": 5
}
