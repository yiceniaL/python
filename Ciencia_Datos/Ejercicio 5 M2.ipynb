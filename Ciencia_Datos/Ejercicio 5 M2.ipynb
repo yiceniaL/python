{
 "cells": [
  {
   "cell_type": "markdown",
   "id": "04052834",
   "metadata": {},
   "source": [
    "1. Una Tabla de BINGO\n",
    "\n",
    "Para una tarde de bingo se usarán tablas generadas con las siguientes reglas:\n",
    "- Los 5 números en cada columna son aleatorios ordenados no repetidos de acuerdo al rango asignado por columna.\n",
    "- La casilla central de la tabla tiene valor marcado cero o ‘libre’. Realice un programa para generar una tabla de bingo."
   ]
  },
  {
   "cell_type": "code",
   "execution_count": 23,
   "id": "0e6c9766",
   "metadata": {},
   "outputs": [
    {
     "name": "stdout",
     "output_type": "stream",
     "text": [
      "   B   i   n   g   o\n",
      "0  1  17  38  46  59\n",
      "1  3  19  39  50  63\n",
      "2  4  21   0  51  66\n",
      "3  5  22  42  56  70\n",
      "4  6  24  44  59  71\n"
     ]
    }
   ],
   "source": [
    "#Importar aleatorio y matriz\n",
    "import random as rd\n",
    "import pandas as pd\n",
    "\n",
    "#Definir aleatorio por palabra BINGO\n",
    "B = sorted(rd.sample(range(1, 15), 5))\n",
    "I = sorted(rd.sample(range(16, 30), 5))\n",
    "N = sorted(rd.sample(range(31, 45), 5))\n",
    "G = sorted(rd.sample(range(46, 60), 5))\n",
    "O = sorted(rd.sample(range(59, 75), 5))\n",
    "\n",
    "#Titulo de la matriz y definicion de las columnas\n",
    "Lista = {'B': B, 'i': I, 'n': N, 'g': G, 'o': O}\n",
    "\n",
    "#Definir el centro como el cero en la lista N\n",
    "N[2]=\"0\"\n",
    "\n",
    "#Mostrar la matriz\n",
    "L_BINGO = pd.DataFrame(Lista)\n",
    "print(L_BINGO)"
   ]
  }
 ],
 "metadata": {
  "kernelspec": {
   "display_name": "Python 3 (ipykernel)",
   "language": "python",
   "name": "python3"
  },
  "language_info": {
   "codemirror_mode": {
    "name": "ipython",
    "version": 3
   },
   "file_extension": ".py",
   "mimetype": "text/x-python",
   "name": "python",
   "nbconvert_exporter": "python",
   "pygments_lexer": "ipython3",
   "version": "3.10.9"
  }
 },
 "nbformat": 4,
 "nbformat_minor": 5
}
