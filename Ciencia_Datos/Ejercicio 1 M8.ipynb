{
 "cells": [
  {
   "cell_type": "markdown",
   "id": "6e00793f",
   "metadata": {},
   "source": [
    "PARTE I\n",
    "\n",
    "Machine learning para clasificar\n",
    "\n",
    "Python es el lenguaje preferido para la ciencia de datos debido a NumPy,\n",
    "Pandas y matplotlib, que son herramientas que facilitan el trabajo con\n",
    "matrices y dibujan gráficos y pueden trabajar con grandes matrices de datos\n",
    "de manera eficiente. Pero Spark está diseñado para trabajar con una enorme\n",
    "cantidad de datos, distribuidos en un clúster.\n",
    "\n",
    "Datos del paciente del corazón\n",
    "\n",
    "Encontrará adjunto la base de datos.\n",
    "\n",
    "Las columnas son:"
   ]
  },
  {
   "cell_type": "markdown",
   "id": "8e125fdd",
   "metadata": {},
   "source": [
    "1. Años\n",
    "2. Sexo\n",
    "3. Tipo de dolor torácico (4 valores)\n",
    "4. Presión arterial en reposo\n",
    "5. Colesterol sérico en mg/dl\n",
    "6. Azúcar en sangre en ayunas > 120 mg/dl\n",
    "7. Resultados electrocardiográficos en reposo (valores 0,1,2)\n",
    "8. Frecuencia cardíaca máxima alcanzada\n",
    "9. Angina inducida por el ejercicio\n",
    "10. Oldpeak = depresión del ST inducida por el ejercicio en relación con el reposo\n",
    "11. Pendiente del segmento ST de ejercicio máximo\n",
    "12. Número de vasos principales (0-3) coloreados por fluoroscopia\n",
    "13. Thal: 3 = normal; 6 = defecto fijo; 7 = defecto reversible"
   ]
  },
  {
   "cell_type": "markdown",
   "id": "6633423c",
   "metadata": {},
   "source": [
    "El campo que indica si el paciente tiene un problema cardíaco. Los números\n",
    "son los siguientes:\n",
    "\n",
    "Un valor de 3 significa que el paciente está sano (normal). Un valor de 6\n",
    "significa que se ha solucionado el problema de salud del paciente. Un valor de\n",
    "7 significa que se puede solucionar el problema de salud del paciente.\n",
    "\n",
    "Entonces, escriba esta función ENFERMO() para marcar 0 como negativo y 1\n",
    "como positivo, porque la regresión logística binaria requiere uno de dos\n",
    "resultados.\n",
    "\n",
    "También debe crear el dataframe de Spark raw_data usando la operación\n",
    "transform() y seleccionando solo la columna de características."
   ]
  },
  {
   "cell_type": "code",
   "execution_count": 43,
   "id": "d6b91730",
   "metadata": {},
   "outputs": [
    {
     "data": {
      "text/html": [
       "<div>\n",
       "<style scoped>\n",
       "    .dataframe tbody tr th:only-of-type {\n",
       "        vertical-align: middle;\n",
       "    }\n",
       "\n",
       "    .dataframe tbody tr th {\n",
       "        vertical-align: top;\n",
       "    }\n",
       "\n",
       "    .dataframe thead th {\n",
       "        text-align: right;\n",
       "    }\n",
       "</style>\n",
       "<table border=\"1\" class=\"dataframe\">\n",
       "  <thead>\n",
       "    <tr style=\"text-align: right;\">\n",
       "      <th></th>\n",
       "      <th>años</th>\n",
       "      <th>sexo</th>\n",
       "      <th>dolor</th>\n",
       "      <th>pres</th>\n",
       "      <th>col</th>\n",
       "      <th>sug</th>\n",
       "      <th>electro</th>\n",
       "      <th>fcarmax</th>\n",
       "      <th>angina</th>\n",
       "      <th>oldpeak</th>\n",
       "      <th>pendst</th>\n",
       "      <th>vasprin</th>\n",
       "      <th>thal</th>\n",
       "      <th>enfermo</th>\n",
       "    </tr>\n",
       "  </thead>\n",
       "  <tbody>\n",
       "    <tr>\n",
       "      <th>0</th>\n",
       "      <td>70.0</td>\n",
       "      <td>1.0</td>\n",
       "      <td>4.0</td>\n",
       "      <td>130.0</td>\n",
       "      <td>322.0</td>\n",
       "      <td>0.0</td>\n",
       "      <td>2.0</td>\n",
       "      <td>109.0</td>\n",
       "      <td>0.0</td>\n",
       "      <td>2.4</td>\n",
       "      <td>2.0</td>\n",
       "      <td>3.0</td>\n",
       "      <td>3.0</td>\n",
       "      <td>1</td>\n",
       "    </tr>\n",
       "    <tr>\n",
       "      <th>1</th>\n",
       "      <td>67.0</td>\n",
       "      <td>0.0</td>\n",
       "      <td>3.0</td>\n",
       "      <td>115.0</td>\n",
       "      <td>564.0</td>\n",
       "      <td>0.0</td>\n",
       "      <td>2.0</td>\n",
       "      <td>160.0</td>\n",
       "      <td>0.0</td>\n",
       "      <td>1.6</td>\n",
       "      <td>2.0</td>\n",
       "      <td>0.0</td>\n",
       "      <td>7.0</td>\n",
       "      <td>0</td>\n",
       "    </tr>\n",
       "    <tr>\n",
       "      <th>2</th>\n",
       "      <td>57.0</td>\n",
       "      <td>1.0</td>\n",
       "      <td>2.0</td>\n",
       "      <td>124.0</td>\n",
       "      <td>261.0</td>\n",
       "      <td>0.0</td>\n",
       "      <td>0.0</td>\n",
       "      <td>141.0</td>\n",
       "      <td>0.0</td>\n",
       "      <td>0.3</td>\n",
       "      <td>1.0</td>\n",
       "      <td>0.0</td>\n",
       "      <td>7.0</td>\n",
       "      <td>1</td>\n",
       "    </tr>\n",
       "    <tr>\n",
       "      <th>3</th>\n",
       "      <td>64.0</td>\n",
       "      <td>1.0</td>\n",
       "      <td>4.0</td>\n",
       "      <td>128.0</td>\n",
       "      <td>263.0</td>\n",
       "      <td>0.0</td>\n",
       "      <td>0.0</td>\n",
       "      <td>105.0</td>\n",
       "      <td>1.0</td>\n",
       "      <td>0.2</td>\n",
       "      <td>2.0</td>\n",
       "      <td>1.0</td>\n",
       "      <td>7.0</td>\n",
       "      <td>0</td>\n",
       "    </tr>\n",
       "    <tr>\n",
       "      <th>4</th>\n",
       "      <td>74.0</td>\n",
       "      <td>0.0</td>\n",
       "      <td>2.0</td>\n",
       "      <td>120.0</td>\n",
       "      <td>269.0</td>\n",
       "      <td>0.0</td>\n",
       "      <td>2.0</td>\n",
       "      <td>121.0</td>\n",
       "      <td>1.0</td>\n",
       "      <td>0.2</td>\n",
       "      <td>1.0</td>\n",
       "      <td>1.0</td>\n",
       "      <td>3.0</td>\n",
       "      <td>0</td>\n",
       "    </tr>\n",
       "    <tr>\n",
       "      <th>...</th>\n",
       "      <td>...</td>\n",
       "      <td>...</td>\n",
       "      <td>...</td>\n",
       "      <td>...</td>\n",
       "      <td>...</td>\n",
       "      <td>...</td>\n",
       "      <td>...</td>\n",
       "      <td>...</td>\n",
       "      <td>...</td>\n",
       "      <td>...</td>\n",
       "      <td>...</td>\n",
       "      <td>...</td>\n",
       "      <td>...</td>\n",
       "      <td>...</td>\n",
       "    </tr>\n",
       "    <tr>\n",
       "      <th>265</th>\n",
       "      <td>52.0</td>\n",
       "      <td>1.0</td>\n",
       "      <td>3.0</td>\n",
       "      <td>172.0</td>\n",
       "      <td>199.0</td>\n",
       "      <td>1.0</td>\n",
       "      <td>0.0</td>\n",
       "      <td>162.0</td>\n",
       "      <td>0.0</td>\n",
       "      <td>0.5</td>\n",
       "      <td>1.0</td>\n",
       "      <td>0.0</td>\n",
       "      <td>7.0</td>\n",
       "      <td>0</td>\n",
       "    </tr>\n",
       "    <tr>\n",
       "      <th>266</th>\n",
       "      <td>44.0</td>\n",
       "      <td>1.0</td>\n",
       "      <td>2.0</td>\n",
       "      <td>120.0</td>\n",
       "      <td>263.0</td>\n",
       "      <td>0.0</td>\n",
       "      <td>0.0</td>\n",
       "      <td>173.0</td>\n",
       "      <td>0.0</td>\n",
       "      <td>0.0</td>\n",
       "      <td>1.0</td>\n",
       "      <td>0.0</td>\n",
       "      <td>7.0</td>\n",
       "      <td>0</td>\n",
       "    </tr>\n",
       "    <tr>\n",
       "      <th>267</th>\n",
       "      <td>56.0</td>\n",
       "      <td>0.0</td>\n",
       "      <td>2.0</td>\n",
       "      <td>140.0</td>\n",
       "      <td>294.0</td>\n",
       "      <td>0.0</td>\n",
       "      <td>2.0</td>\n",
       "      <td>153.0</td>\n",
       "      <td>0.0</td>\n",
       "      <td>1.3</td>\n",
       "      <td>2.0</td>\n",
       "      <td>0.0</td>\n",
       "      <td>3.0</td>\n",
       "      <td>0</td>\n",
       "    </tr>\n",
       "    <tr>\n",
       "      <th>268</th>\n",
       "      <td>57.0</td>\n",
       "      <td>1.0</td>\n",
       "      <td>4.0</td>\n",
       "      <td>140.0</td>\n",
       "      <td>192.0</td>\n",
       "      <td>0.0</td>\n",
       "      <td>0.0</td>\n",
       "      <td>148.0</td>\n",
       "      <td>0.0</td>\n",
       "      <td>0.4</td>\n",
       "      <td>2.0</td>\n",
       "      <td>0.0</td>\n",
       "      <td>6.0</td>\n",
       "      <td>0</td>\n",
       "    </tr>\n",
       "    <tr>\n",
       "      <th>269</th>\n",
       "      <td>67.0</td>\n",
       "      <td>1.0</td>\n",
       "      <td>4.0</td>\n",
       "      <td>160.0</td>\n",
       "      <td>286.0</td>\n",
       "      <td>0.0</td>\n",
       "      <td>2.0</td>\n",
       "      <td>108.0</td>\n",
       "      <td>1.0</td>\n",
       "      <td>1.5</td>\n",
       "      <td>2.0</td>\n",
       "      <td>3.0</td>\n",
       "      <td>3.0</td>\n",
       "      <td>1</td>\n",
       "    </tr>\n",
       "  </tbody>\n",
       "</table>\n",
       "<p>270 rows × 14 columns</p>\n",
       "</div>"
      ],
      "text/plain": [
       "     años  sexo  dolor   pres    col  sug  electro  fcarmax  angina  oldpeak  \\\n",
       "0    70.0   1.0    4.0  130.0  322.0  0.0      2.0    109.0     0.0      2.4   \n",
       "1    67.0   0.0    3.0  115.0  564.0  0.0      2.0    160.0     0.0      1.6   \n",
       "2    57.0   1.0    2.0  124.0  261.0  0.0      0.0    141.0     0.0      0.3   \n",
       "3    64.0   1.0    4.0  128.0  263.0  0.0      0.0    105.0     1.0      0.2   \n",
       "4    74.0   0.0    2.0  120.0  269.0  0.0      2.0    121.0     1.0      0.2   \n",
       "..    ...   ...    ...    ...    ...  ...      ...      ...     ...      ...   \n",
       "265  52.0   1.0    3.0  172.0  199.0  1.0      0.0    162.0     0.0      0.5   \n",
       "266  44.0   1.0    2.0  120.0  263.0  0.0      0.0    173.0     0.0      0.0   \n",
       "267  56.0   0.0    2.0  140.0  294.0  0.0      2.0    153.0     0.0      1.3   \n",
       "268  57.0   1.0    4.0  140.0  192.0  0.0      0.0    148.0     0.0      0.4   \n",
       "269  67.0   1.0    4.0  160.0  286.0  0.0      2.0    108.0     1.0      1.5   \n",
       "\n",
       "     pendst  vasprin  thal  enfermo  \n",
       "0       2.0      3.0   3.0        1  \n",
       "1       2.0      0.0   7.0        0  \n",
       "2       1.0      0.0   7.0        1  \n",
       "3       2.0      1.0   7.0        0  \n",
       "4       1.0      1.0   3.0        0  \n",
       "..      ...      ...   ...      ...  \n",
       "265     1.0      0.0   7.0        0  \n",
       "266     1.0      0.0   7.0        0  \n",
       "267     2.0      0.0   3.0        0  \n",
       "268     2.0      0.0   6.0        0  \n",
       "269     2.0      3.0   3.0        1  \n",
       "\n",
       "[270 rows x 14 columns]"
      ]
     },
     "metadata": {},
     "output_type": "display_data"
    }
   ],
   "source": [
    "#Importar\n",
    "import pandas as pd\n",
    "#Dividir en punto y coma ademas de considerar el punto como decimal. Y mostar. \n",
    "dataframe = pd.read_csv(\"heart.csv\", sep=';')\n",
    "display(dataframe)"
   ]
  },
  {
   "cell_type": "code",
   "execution_count": 62,
   "id": "fba9fd4e",
   "metadata": {},
   "outputs": [
    {
     "data": {
      "text/html": [
       "<div>\n",
       "<style scoped>\n",
       "    .dataframe tbody tr th:only-of-type {\n",
       "        vertical-align: middle;\n",
       "    }\n",
       "\n",
       "    .dataframe tbody tr th {\n",
       "        vertical-align: top;\n",
       "    }\n",
       "\n",
       "    .dataframe thead th {\n",
       "        text-align: right;\n",
       "    }\n",
       "</style>\n",
       "<table border=\"1\" class=\"dataframe\">\n",
       "  <thead>\n",
       "    <tr style=\"text-align: right;\">\n",
       "      <th></th>\n",
       "      <th>años</th>\n",
       "      <th>sexo</th>\n",
       "      <th>dolor</th>\n",
       "      <th>pres</th>\n",
       "      <th>col</th>\n",
       "      <th>sug</th>\n",
       "      <th>electro</th>\n",
       "      <th>fcarmax</th>\n",
       "      <th>angina</th>\n",
       "      <th>oldpeak</th>\n",
       "      <th>pendst</th>\n",
       "      <th>vasprin</th>\n",
       "      <th>thal</th>\n",
       "      <th>enfermo</th>\n",
       "    </tr>\n",
       "  </thead>\n",
       "  <tbody>\n",
       "    <tr>\n",
       "      <th>0</th>\n",
       "      <td>70.0</td>\n",
       "      <td>1.0</td>\n",
       "      <td>4.0</td>\n",
       "      <td>130.0</td>\n",
       "      <td>322.0</td>\n",
       "      <td>0.0</td>\n",
       "      <td>2.0</td>\n",
       "      <td>109.0</td>\n",
       "      <td>0.0</td>\n",
       "      <td>2.4</td>\n",
       "      <td>2.0</td>\n",
       "      <td>3.0</td>\n",
       "      <td>3.0</td>\n",
       "      <td>1</td>\n",
       "    </tr>\n",
       "    <tr>\n",
       "      <th>1</th>\n",
       "      <td>67.0</td>\n",
       "      <td>0.0</td>\n",
       "      <td>3.0</td>\n",
       "      <td>115.0</td>\n",
       "      <td>564.0</td>\n",
       "      <td>0.0</td>\n",
       "      <td>2.0</td>\n",
       "      <td>160.0</td>\n",
       "      <td>0.0</td>\n",
       "      <td>1.6</td>\n",
       "      <td>2.0</td>\n",
       "      <td>0.0</td>\n",
       "      <td>7.0</td>\n",
       "      <td>0</td>\n",
       "    </tr>\n",
       "    <tr>\n",
       "      <th>2</th>\n",
       "      <td>57.0</td>\n",
       "      <td>1.0</td>\n",
       "      <td>2.0</td>\n",
       "      <td>124.0</td>\n",
       "      <td>261.0</td>\n",
       "      <td>0.0</td>\n",
       "      <td>0.0</td>\n",
       "      <td>141.0</td>\n",
       "      <td>0.0</td>\n",
       "      <td>0.3</td>\n",
       "      <td>1.0</td>\n",
       "      <td>0.0</td>\n",
       "      <td>7.0</td>\n",
       "      <td>1</td>\n",
       "    </tr>\n",
       "    <tr>\n",
       "      <th>3</th>\n",
       "      <td>64.0</td>\n",
       "      <td>1.0</td>\n",
       "      <td>4.0</td>\n",
       "      <td>128.0</td>\n",
       "      <td>263.0</td>\n",
       "      <td>0.0</td>\n",
       "      <td>0.0</td>\n",
       "      <td>105.0</td>\n",
       "      <td>1.0</td>\n",
       "      <td>0.2</td>\n",
       "      <td>2.0</td>\n",
       "      <td>1.0</td>\n",
       "      <td>7.0</td>\n",
       "      <td>0</td>\n",
       "    </tr>\n",
       "    <tr>\n",
       "      <th>4</th>\n",
       "      <td>74.0</td>\n",
       "      <td>0.0</td>\n",
       "      <td>2.0</td>\n",
       "      <td>120.0</td>\n",
       "      <td>269.0</td>\n",
       "      <td>0.0</td>\n",
       "      <td>2.0</td>\n",
       "      <td>121.0</td>\n",
       "      <td>1.0</td>\n",
       "      <td>0.2</td>\n",
       "      <td>1.0</td>\n",
       "      <td>1.0</td>\n",
       "      <td>3.0</td>\n",
       "      <td>0</td>\n",
       "    </tr>\n",
       "    <tr>\n",
       "      <th>...</th>\n",
       "      <td>...</td>\n",
       "      <td>...</td>\n",
       "      <td>...</td>\n",
       "      <td>...</td>\n",
       "      <td>...</td>\n",
       "      <td>...</td>\n",
       "      <td>...</td>\n",
       "      <td>...</td>\n",
       "      <td>...</td>\n",
       "      <td>...</td>\n",
       "      <td>...</td>\n",
       "      <td>...</td>\n",
       "      <td>...</td>\n",
       "      <td>...</td>\n",
       "    </tr>\n",
       "    <tr>\n",
       "      <th>265</th>\n",
       "      <td>52.0</td>\n",
       "      <td>1.0</td>\n",
       "      <td>3.0</td>\n",
       "      <td>172.0</td>\n",
       "      <td>199.0</td>\n",
       "      <td>1.0</td>\n",
       "      <td>0.0</td>\n",
       "      <td>162.0</td>\n",
       "      <td>0.0</td>\n",
       "      <td>0.5</td>\n",
       "      <td>1.0</td>\n",
       "      <td>0.0</td>\n",
       "      <td>7.0</td>\n",
       "      <td>0</td>\n",
       "    </tr>\n",
       "    <tr>\n",
       "      <th>266</th>\n",
       "      <td>44.0</td>\n",
       "      <td>1.0</td>\n",
       "      <td>2.0</td>\n",
       "      <td>120.0</td>\n",
       "      <td>263.0</td>\n",
       "      <td>0.0</td>\n",
       "      <td>0.0</td>\n",
       "      <td>173.0</td>\n",
       "      <td>0.0</td>\n",
       "      <td>0.0</td>\n",
       "      <td>1.0</td>\n",
       "      <td>0.0</td>\n",
       "      <td>7.0</td>\n",
       "      <td>0</td>\n",
       "    </tr>\n",
       "    <tr>\n",
       "      <th>267</th>\n",
       "      <td>56.0</td>\n",
       "      <td>0.0</td>\n",
       "      <td>2.0</td>\n",
       "      <td>140.0</td>\n",
       "      <td>294.0</td>\n",
       "      <td>0.0</td>\n",
       "      <td>2.0</td>\n",
       "      <td>153.0</td>\n",
       "      <td>0.0</td>\n",
       "      <td>1.3</td>\n",
       "      <td>2.0</td>\n",
       "      <td>0.0</td>\n",
       "      <td>3.0</td>\n",
       "      <td>0</td>\n",
       "    </tr>\n",
       "    <tr>\n",
       "      <th>268</th>\n",
       "      <td>57.0</td>\n",
       "      <td>1.0</td>\n",
       "      <td>4.0</td>\n",
       "      <td>140.0</td>\n",
       "      <td>192.0</td>\n",
       "      <td>0.0</td>\n",
       "      <td>0.0</td>\n",
       "      <td>148.0</td>\n",
       "      <td>0.0</td>\n",
       "      <td>0.4</td>\n",
       "      <td>2.0</td>\n",
       "      <td>0.0</td>\n",
       "      <td>6.0</td>\n",
       "      <td>0</td>\n",
       "    </tr>\n",
       "    <tr>\n",
       "      <th>269</th>\n",
       "      <td>67.0</td>\n",
       "      <td>1.0</td>\n",
       "      <td>4.0</td>\n",
       "      <td>160.0</td>\n",
       "      <td>286.0</td>\n",
       "      <td>0.0</td>\n",
       "      <td>2.0</td>\n",
       "      <td>108.0</td>\n",
       "      <td>1.0</td>\n",
       "      <td>1.5</td>\n",
       "      <td>2.0</td>\n",
       "      <td>3.0</td>\n",
       "      <td>3.0</td>\n",
       "      <td>1</td>\n",
       "    </tr>\n",
       "  </tbody>\n",
       "</table>\n",
       "<p>270 rows × 14 columns</p>\n",
       "</div>"
      ],
      "text/plain": [
       "     años  sexo  dolor   pres    col  sug  electro  fcarmax  angina  oldpeak  \\\n",
       "0    70.0   1.0    4.0  130.0  322.0  0.0      2.0    109.0     0.0      2.4   \n",
       "1    67.0   0.0    3.0  115.0  564.0  0.0      2.0    160.0     0.0      1.6   \n",
       "2    57.0   1.0    2.0  124.0  261.0  0.0      0.0    141.0     0.0      0.3   \n",
       "3    64.0   1.0    4.0  128.0  263.0  0.0      0.0    105.0     1.0      0.2   \n",
       "4    74.0   0.0    2.0  120.0  269.0  0.0      2.0    121.0     1.0      0.2   \n",
       "..    ...   ...    ...    ...    ...  ...      ...      ...     ...      ...   \n",
       "265  52.0   1.0    3.0  172.0  199.0  1.0      0.0    162.0     0.0      0.5   \n",
       "266  44.0   1.0    2.0  120.0  263.0  0.0      0.0    173.0     0.0      0.0   \n",
       "267  56.0   0.0    2.0  140.0  294.0  0.0      2.0    153.0     0.0      1.3   \n",
       "268  57.0   1.0    4.0  140.0  192.0  0.0      0.0    148.0     0.0      0.4   \n",
       "269  67.0   1.0    4.0  160.0  286.0  0.0      2.0    108.0     1.0      1.5   \n",
       "\n",
       "     pendst  vasprin  thal  enfermo  \n",
       "0       2.0      3.0   3.0        1  \n",
       "1       2.0      0.0   7.0        0  \n",
       "2       1.0      0.0   7.0        1  \n",
       "3       2.0      1.0   7.0        0  \n",
       "4       1.0      1.0   3.0        0  \n",
       "..      ...      ...   ...      ...  \n",
       "265     1.0      0.0   7.0        0  \n",
       "266     1.0      0.0   7.0        0  \n",
       "267     2.0      0.0   3.0        0  \n",
       "268     2.0      0.0   6.0        0  \n",
       "269     2.0      3.0   3.0        1  \n",
       "\n",
       "[270 rows x 14 columns]"
      ]
     },
     "execution_count": 62,
     "metadata": {},
     "output_type": "execute_result"
    }
   ],
   "source": [
    "data = pd.read_csv(\"heart.csv\", sep=';')\n",
    "data"
   ]
  },
  {
   "cell_type": "markdown",
   "id": "77d05f9d",
   "metadata": {},
   "source": [
    "Continuando con los datos del Corazón.\n",
    "\n",
    "1. Use Standard Scaler para poner todos los números en la misma escala. Esto toma la observación y resta la media, y luego la divide por la desviación estándar."
   ]
  },
  {
   "cell_type": "code",
   "execution_count": 63,
   "id": "82898903",
   "metadata": {},
   "outputs": [
    {
     "name": "stdout",
     "output_type": "stream",
     "text": [
      "StandardScaler()\n"
     ]
    }
   ],
   "source": [
    "from sklearn.preprocessing import StandardScaler\n",
    "scaler = StandardScaler()\n",
    "\n",
    "print(scaler.fit(data))"
   ]
  },
  {
   "cell_type": "code",
   "execution_count": 64,
   "id": "080f59d6",
   "metadata": {},
   "outputs": [
    {
     "name": "stdout",
     "output_type": "stream",
     "text": [
      "[5.44333333e+01 6.77777778e-01 3.17407407e+00 1.31344444e+02\n",
      " 2.49659259e+02 1.48148148e-01 1.02222222e+00 1.49677778e+02\n",
      " 3.29629630e-01 1.05000000e+00 1.58518519e+00 6.70370370e-01\n",
      " 4.69629630e+00 4.44444444e-01]\n"
     ]
    }
   ],
   "source": [
    "StandardScaler()\n",
    "print(scaler.mean_)"
   ]
  },
  {
   "cell_type": "markdown",
   "id": "24cd2982",
   "metadata": {},
   "source": [
    "2. Imprima el estado actual de sus datos"
   ]
  },
  {
   "cell_type": "code",
   "execution_count": 65,
   "id": "431aad15",
   "metadata": {},
   "outputs": [
    {
     "data": {
      "text/plain": [
       "array([[ 1.71209356,  0.6894997 ,  0.87092765, ...,  2.47268219,\n",
       "        -0.87570581,  1.11803399],\n",
       "       [ 1.38213977, -1.45032695, -0.18355874, ..., -0.71153494,\n",
       "         1.18927733, -0.89442719],\n",
       "       [ 0.2822938 ,  0.6894997 , -1.23804513, ..., -0.71153494,\n",
       "         1.18927733,  1.11803399],\n",
       "       ...,\n",
       "       [ 0.1723092 , -1.45032695, -1.23804513, ..., -0.71153494,\n",
       "        -0.87570581, -0.89442719],\n",
       "       [ 0.2822938 ,  0.6894997 ,  0.87092765, ..., -0.71153494,\n",
       "         0.67303154, -0.89442719],\n",
       "       [ 1.38213977,  0.6894997 ,  0.87092765, ...,  2.47268219,\n",
       "        -0.87570581,  1.11803399]])"
      ]
     },
     "execution_count": 65,
     "metadata": {},
     "output_type": "execute_result"
    }
   ],
   "source": [
    "#print(scaler.transform(data))\n",
    "df1 = scaler.fit_transform(data)\n",
    "df1"
   ]
  },
  {
   "cell_type": "markdown",
   "id": "6c7d7027",
   "metadata": {},
   "source": [
    "3. Divida los datos en conjuntos de datos de entrenamiento y prueba. Use 50/50."
   ]
  },
  {
   "cell_type": "code",
   "execution_count": 40,
   "id": "b0ab3c06",
   "metadata": {},
   "outputs": [],
   "source": [
    "import pandas as pd\n",
    "import numpy as np\n",
    "from sklearn import linear_model\n",
    "from sklearn import model_selection\n",
    "from sklearn.metrics import classification_report\n",
    "from sklearn.metrics import confusion_matrix\n",
    "from sklearn.metrics import accuracy_score\n",
    "import matplotlib.pyplot as plt\n",
    "import seaborn as sb\n",
    "%matplotlib inline"
   ]
  },
  {
   "cell_type": "code",
   "execution_count": 58,
   "id": "c95ff476",
   "metadata": {},
   "outputs": [
    {
     "name": "stderr",
     "output_type": "stream",
     "text": [
      "C:\\Users\\Erik\\AppData\\Local\\Temp\\ipykernel_18552\\1840235236.py:1: FutureWarning: In a future version of pandas all arguments of DataFrame.drop except for the argument 'labels' will be keyword-only.\n",
      "  X = np.array(dataframe.drop(['enfermo'],1))\n"
     ]
    },
    {
     "data": {
      "text/plain": [
       "array([[70.,  1.,  4., ...,  2.,  3.,  3.],\n",
       "       [67.,  0.,  3., ...,  2.,  0.,  7.],\n",
       "       [57.,  1.,  2., ...,  1.,  0.,  7.],\n",
       "       ...,\n",
       "       [56.,  0.,  2., ...,  2.,  0.,  3.],\n",
       "       [57.,  1.,  4., ...,  2.,  0.,  6.],\n",
       "       [67.,  1.,  4., ...,  2.,  3.,  3.]])"
      ]
     },
     "execution_count": 58,
     "metadata": {},
     "output_type": "execute_result"
    }
   ],
   "source": [
    "X = np.array(dataframe.drop(['enfermo'],1))\n",
    "y = np.array(dataframe['enfermo'])\n",
    "\n",
    "X"
   ]
  },
  {
   "cell_type": "markdown",
   "id": "98a6fd75",
   "metadata": {},
   "source": [
    "4. Cree un modelo de regresión logística y entrénalo."
   ]
  },
  {
   "cell_type": "code",
   "execution_count": 59,
   "id": "ad16bb58",
   "metadata": {},
   "outputs": [],
   "source": [
    "from sklearn.model_selection import train_test_split\n",
    "\n",
    "#Separo los datos de \"train\" en entrenamiento y prueba para probar los algoritmos\n",
    "X_train, X_test, y_train, y_test = train_test_split(X, y, test_size=0.5)"
   ]
  },
  {
   "cell_type": "code",
   "execution_count": 60,
   "id": "3fca3765",
   "metadata": {},
   "outputs": [],
   "source": [
    "from sklearn.preprocessing import StandardScaler\n",
    "escalar = StandardScaler()"
   ]
  },
  {
   "cell_type": "code",
   "execution_count": 61,
   "id": "8a1ee82f",
   "metadata": {},
   "outputs": [],
   "source": [
    "X_train = escalar.fit_transform(X_train)\n",
    "X_test = escalar.transform(X_test)"
   ]
  },
  {
   "cell_type": "code",
   "execution_count": 56,
   "id": "361449ad",
   "metadata": {},
   "outputs": [
    {
     "data": {
      "text/html": [
       "<style>#sk-container-id-2 {color: black;background-color: white;}#sk-container-id-2 pre{padding: 0;}#sk-container-id-2 div.sk-toggleable {background-color: white;}#sk-container-id-2 label.sk-toggleable__label {cursor: pointer;display: block;width: 100%;margin-bottom: 0;padding: 0.3em;box-sizing: border-box;text-align: center;}#sk-container-id-2 label.sk-toggleable__label-arrow:before {content: \"▸\";float: left;margin-right: 0.25em;color: #696969;}#sk-container-id-2 label.sk-toggleable__label-arrow:hover:before {color: black;}#sk-container-id-2 div.sk-estimator:hover label.sk-toggleable__label-arrow:before {color: black;}#sk-container-id-2 div.sk-toggleable__content {max-height: 0;max-width: 0;overflow: hidden;text-align: left;background-color: #f0f8ff;}#sk-container-id-2 div.sk-toggleable__content pre {margin: 0.2em;color: black;border-radius: 0.25em;background-color: #f0f8ff;}#sk-container-id-2 input.sk-toggleable__control:checked~div.sk-toggleable__content {max-height: 200px;max-width: 100%;overflow: auto;}#sk-container-id-2 input.sk-toggleable__control:checked~label.sk-toggleable__label-arrow:before {content: \"▾\";}#sk-container-id-2 div.sk-estimator input.sk-toggleable__control:checked~label.sk-toggleable__label {background-color: #d4ebff;}#sk-container-id-2 div.sk-label input.sk-toggleable__control:checked~label.sk-toggleable__label {background-color: #d4ebff;}#sk-container-id-2 input.sk-hidden--visually {border: 0;clip: rect(1px 1px 1px 1px);clip: rect(1px, 1px, 1px, 1px);height: 1px;margin: -1px;overflow: hidden;padding: 0;position: absolute;width: 1px;}#sk-container-id-2 div.sk-estimator {font-family: monospace;background-color: #f0f8ff;border: 1px dotted black;border-radius: 0.25em;box-sizing: border-box;margin-bottom: 0.5em;}#sk-container-id-2 div.sk-estimator:hover {background-color: #d4ebff;}#sk-container-id-2 div.sk-parallel-item::after {content: \"\";width: 100%;border-bottom: 1px solid gray;flex-grow: 1;}#sk-container-id-2 div.sk-label:hover label.sk-toggleable__label {background-color: #d4ebff;}#sk-container-id-2 div.sk-serial::before {content: \"\";position: absolute;border-left: 1px solid gray;box-sizing: border-box;top: 0;bottom: 0;left: 50%;z-index: 0;}#sk-container-id-2 div.sk-serial {display: flex;flex-direction: column;align-items: center;background-color: white;padding-right: 0.2em;padding-left: 0.2em;position: relative;}#sk-container-id-2 div.sk-item {position: relative;z-index: 1;}#sk-container-id-2 div.sk-parallel {display: flex;align-items: stretch;justify-content: center;background-color: white;position: relative;}#sk-container-id-2 div.sk-item::before, #sk-container-id-2 div.sk-parallel-item::before {content: \"\";position: absolute;border-left: 1px solid gray;box-sizing: border-box;top: 0;bottom: 0;left: 50%;z-index: -1;}#sk-container-id-2 div.sk-parallel-item {display: flex;flex-direction: column;z-index: 1;position: relative;background-color: white;}#sk-container-id-2 div.sk-parallel-item:first-child::after {align-self: flex-end;width: 50%;}#sk-container-id-2 div.sk-parallel-item:last-child::after {align-self: flex-start;width: 50%;}#sk-container-id-2 div.sk-parallel-item:only-child::after {width: 0;}#sk-container-id-2 div.sk-dashed-wrapped {border: 1px dashed gray;margin: 0 0.4em 0.5em 0.4em;box-sizing: border-box;padding-bottom: 0.4em;background-color: white;}#sk-container-id-2 div.sk-label label {font-family: monospace;font-weight: bold;display: inline-block;line-height: 1.2em;}#sk-container-id-2 div.sk-label-container {text-align: center;}#sk-container-id-2 div.sk-container {/* jupyter's `normalize.less` sets `[hidden] { display: none; }` but bootstrap.min.css set `[hidden] { display: none !important; }` so we also need the `!important` here to be able to override the default hidden behavior on the sphinx rendered scikit-learn.org. See: https://github.com/scikit-learn/scikit-learn/issues/21755 */display: inline-block !important;position: relative;}#sk-container-id-2 div.sk-text-repr-fallback {display: none;}</style><div id=\"sk-container-id-2\" class=\"sk-top-container\"><div class=\"sk-text-repr-fallback\"><pre>LogisticRegression()</pre><b>In a Jupyter environment, please rerun this cell to show the HTML representation or trust the notebook. <br />On GitHub, the HTML representation is unable to render, please try loading this page with nbviewer.org.</b></div><div class=\"sk-container\" hidden><div class=\"sk-item\"><div class=\"sk-estimator sk-toggleable\"><input class=\"sk-toggleable__control sk-hidden--visually\" id=\"sk-estimator-id-2\" type=\"checkbox\" checked><label for=\"sk-estimator-id-2\" class=\"sk-toggleable__label sk-toggleable__label-arrow\">LogisticRegression</label><div class=\"sk-toggleable__content\"><pre>LogisticRegression()</pre></div></div></div></div></div>"
      ],
      "text/plain": [
       "LogisticRegression()"
      ]
     },
     "execution_count": 56,
     "metadata": {},
     "output_type": "execute_result"
    }
   ],
   "source": [
    "from sklearn.linear_model import LogisticRegression\n",
    "algoritmo = LogisticRegression()\n",
    "#Entrenamos el modelo\n",
    "algoritmo.fit(X_train, y_train)"
   ]
  },
  {
   "cell_type": "code",
   "execution_count": 57,
   "id": "41df2a35",
   "metadata": {},
   "outputs": [
    {
     "data": {
      "text/plain": [
       "0.8518518518518519"
      ]
     },
     "execution_count": 57,
     "metadata": {},
     "output_type": "execute_result"
    }
   ],
   "source": [
    "model.score(X,y)"
   ]
  },
  {
   "cell_type": "markdown",
   "id": "29e60f19",
   "metadata": {},
   "source": [
    "5. Finalmente Use la función F de Spark SQL para crear una nueva columna correcta cuando ENFERMO() es igual a la predicción, lo que significa que el resultado predicho es igual a los resultados reales."
   ]
  },
  {
   "cell_type": "code",
   "execution_count": 73,
   "id": "10a6b0e0",
   "metadata": {},
   "outputs": [
    {
     "data": {
      "text/plain": [
       "135"
      ]
     },
     "execution_count": 73,
     "metadata": {},
     "output_type": "execute_result"
    }
   ],
   "source": [
    "#Realizamos una predicción\n",
    "y_pred = algoritmo.predict(X_test)\n",
    "len(y_pred)"
   ]
  },
  {
   "cell_type": "code",
   "execution_count": 79,
   "id": "0b5918df",
   "metadata": {},
   "outputs": [
    {
     "data": {
      "text/plain": [
       "array([0, 0, 1, 1, 0, 1, 1, 1, 0, 0, 0, 0, 0, 0, 1, 0, 1, 1, 0, 1, 0, 0,\n",
       "       1, 1, 0, 0, 1, 1, 0, 0, 0, 1, 1, 1, 1, 0, 0, 0, 0, 0, 0, 1, 1, 0,\n",
       "       1, 1, 0, 1, 0, 1, 1, 0, 0, 1, 0, 0, 1, 0, 0, 1, 1, 1, 0, 0, 0, 1,\n",
       "       1, 0, 0, 0, 0, 0, 0, 1, 0, 0, 1, 1, 1, 1, 0, 1, 0, 0, 1, 0, 1, 0,\n",
       "       1, 1, 1, 1, 0, 1, 0, 1, 0, 0, 0, 0, 0, 0, 1, 1, 0, 0, 0, 0, 1, 0,\n",
       "       1, 0, 1, 0, 0, 0, 0, 0, 1, 0, 1, 1, 1, 0, 0, 0, 1, 1, 0, 0, 0, 0,\n",
       "       0, 1, 0], dtype=int64)"
      ]
     },
     "execution_count": 79,
     "metadata": {},
     "output_type": "execute_result"
    }
   ],
   "source": [
    "y_pred "
   ]
  },
  {
   "cell_type": "code",
   "execution_count": 88,
   "id": "53568c18",
   "metadata": {
    "scrolled": true
   },
   "outputs": [
    {
     "data": {
      "text/plain": [
       "135"
      ]
     },
     "execution_count": 88,
     "metadata": {},
     "output_type": "execute_result"
    }
   ],
   "source": [
    "y_real1 = data['enfermo']\n",
    "y_real = y_real1[:135].to_numpy()\n",
    "len(y_real)"
   ]
  },
  {
   "cell_type": "code",
   "execution_count": 89,
   "id": "75318a07",
   "metadata": {},
   "outputs": [
    {
     "data": {
      "text/plain": [
       "array([1, 0, 1, 0, 0, 0, 1, 1, 1, 1, 0, 0, 0, 1, 0, 0, 1, 1, 0, 0, 1, 0,\n",
       "       0, 0, 0, 0, 0, 0, 1, 0, 1, 0, 0, 1, 1, 1, 1, 1, 0, 0, 1, 0, 0, 0,\n",
       "       1, 0, 1, 1, 1, 1, 1, 0, 0, 0, 0, 0, 1, 0, 1, 1, 0, 1, 0, 0, 0, 1,\n",
       "       0, 1, 0, 1, 1, 0, 0, 0, 0, 1, 0, 0, 0, 0, 1, 1, 1, 0, 0, 0, 0, 0,\n",
       "       0, 1, 0, 1, 1, 1, 1, 1, 0, 1, 0, 0, 0, 1, 0, 1, 1, 1, 0, 1, 1, 0,\n",
       "       1, 0, 1, 0, 0, 0, 1, 1, 0, 1, 1, 1, 1, 0, 0, 0, 1, 0, 0, 1, 1, 1,\n",
       "       0, 1, 0], dtype=int64)"
      ]
     },
     "execution_count": 89,
     "metadata": {},
     "output_type": "execute_result"
    }
   ],
   "source": [
    "y_real"
   ]
  },
  {
   "cell_type": "code",
   "execution_count": 90,
   "id": "e6a6ab81",
   "metadata": {},
   "outputs": [
    {
     "name": "stdout",
     "output_type": "stream",
     "text": [
      "[False  True  True False  True False  True  True False False  True  True\n",
      "  True False False  True  True  True  True False False  True False False\n",
      "  True  True False False False  True False False False  True  True False\n",
      " False False  True  True False False False  True  True False False  True\n",
      " False  True  True  True  True False  True  True  True  True False  True\n",
      " False  True  True  True  True  True False False  True False False  True\n",
      "  True False  True False False False False False False  True False  True\n",
      " False  True False  True False  True False  True False  True False  True\n",
      "  True False  True  True  True False False  True False False  True False\n",
      "  True  True  True  True  True  True  True  True False False False False\n",
      "  True  True  True  True  True  True  True False  True False False False\n",
      "  True  True  True]\n"
     ]
    }
   ],
   "source": [
    "print(y_real == y_pred)"
   ]
  }
 ],
 "metadata": {
  "kernelspec": {
   "display_name": "Python 3 (ipykernel)",
   "language": "python",
   "name": "python3"
  },
  "language_info": {
   "codemirror_mode": {
    "name": "ipython",
    "version": 3
   },
   "file_extension": ".py",
   "mimetype": "text/x-python",
   "name": "python",
   "nbconvert_exporter": "python",
   "pygments_lexer": "ipython3",
   "version": "3.10.9"
  }
 },
 "nbformat": 4,
 "nbformat_minor": 5
}
