{
 "cells": [
  {
   "cell_type": "markdown",
   "id": "36965e48",
   "metadata": {},
   "source": [
    "Ejercicio: Suponga que le han pedido averiguar si existe una relación entre el número de veces que batean los jugadores de un equipo de béisbol y el número de runs que consigue. En caso de existir y de establecer un modelo, podría predecir el resultado del partido para los siguientes datos:"
   ]
  },
  {
   "cell_type": "code",
   "execution_count": 30,
   "id": "68ef3c21",
   "metadata": {},
   "outputs": [],
   "source": [
    "import matplotlib.pyplot as plt\n",
    "import pandas as pd\n",
    "import pylab as pl\n",
    "import numpy as np\n",
    "%matplotlib inline"
   ]
  },
  {
   "cell_type": "code",
   "execution_count": 7,
   "id": "879b1fbf",
   "metadata": {},
   "outputs": [],
   "source": [
    "equipos = [\"Texas\",\"Boston\",\"Detroit\",\"Kansas\",\"St.\",\"New_S.\",\"New_Y.\", \n",
    "           \"Milwaukee\",\"Colorado\",\"Houston\",\"Baltimore\",\"Los_An.\",\"Chicago\",\n",
    "           \"Cincinnati\",\"Los_P.\",\"Philadelphia\",\"Chicago\",\"Cleveland\",\"Arizona\",\n",
    "           \"Toronto\",\"Minnesota\",\"Florida\",\"Pittsburgh\",\"Oakland\",\"Tampa\",\n",
    "           \"Atlanta\",\"Washington\",\"San.F\",\"San.I\",\"Seattle\"]"
   ]
  },
  {
   "cell_type": "code",
   "execution_count": 8,
   "id": "dd9c239a",
   "metadata": {},
   "outputs": [],
   "source": [
    "bateos = [5659, 5710, 5563, 5672, 5532, 5600, 5518, 5447, 5544, 5598, 5585, \n",
    "          5436, 5549, 5612, 5513, 5579, 5502, 5509, 5421, 5559, 5487, 5508, \n",
    "          5421, 5452, 5436, 5528, 5441, 5486, 5417, 5421]"
   ]
  },
  {
   "cell_type": "code",
   "execution_count": 9,
   "id": "a80e24cb",
   "metadata": {},
   "outputs": [],
   "source": [
    "runs = [855, 875, 787, 730, 762, 718, 867, 721, 735, 615, 708, 644, 654, 735,\n",
    "        667, 713, 654, 704, 731, 743, 619, 625, 610, 645, 707, 641, 624, 570,\n",
    "        593, 556]"
   ]
  },
  {
   "cell_type": "code",
   "execution_count": 42,
   "id": "e7318227",
   "metadata": {
    "scrolled": true
   },
   "outputs": [
    {
     "data": {
      "text/html": [
       "<div>\n",
       "<style scoped>\n",
       "    .dataframe tbody tr th:only-of-type {\n",
       "        vertical-align: middle;\n",
       "    }\n",
       "\n",
       "    .dataframe tbody tr th {\n",
       "        vertical-align: top;\n",
       "    }\n",
       "\n",
       "    .dataframe thead th {\n",
       "        text-align: right;\n",
       "    }\n",
       "</style>\n",
       "<table border=\"1\" class=\"dataframe\">\n",
       "  <thead>\n",
       "    <tr style=\"text-align: right;\">\n",
       "      <th></th>\n",
       "      <th>equipos</th>\n",
       "      <th>bateos</th>\n",
       "      <th>runs</th>\n",
       "    </tr>\n",
       "  </thead>\n",
       "  <tbody>\n",
       "    <tr>\n",
       "      <th>0</th>\n",
       "      <td>Texas</td>\n",
       "      <td>5659</td>\n",
       "      <td>855</td>\n",
       "    </tr>\n",
       "    <tr>\n",
       "      <th>1</th>\n",
       "      <td>Boston</td>\n",
       "      <td>5710</td>\n",
       "      <td>875</td>\n",
       "    </tr>\n",
       "    <tr>\n",
       "      <th>2</th>\n",
       "      <td>Detroit</td>\n",
       "      <td>5563</td>\n",
       "      <td>787</td>\n",
       "    </tr>\n",
       "    <tr>\n",
       "      <th>3</th>\n",
       "      <td>Kansas</td>\n",
       "      <td>5672</td>\n",
       "      <td>730</td>\n",
       "    </tr>\n",
       "    <tr>\n",
       "      <th>4</th>\n",
       "      <td>St.</td>\n",
       "      <td>5532</td>\n",
       "      <td>762</td>\n",
       "    </tr>\n",
       "    <tr>\n",
       "      <th>5</th>\n",
       "      <td>New_S.</td>\n",
       "      <td>5600</td>\n",
       "      <td>718</td>\n",
       "    </tr>\n",
       "    <tr>\n",
       "      <th>6</th>\n",
       "      <td>New_Y.</td>\n",
       "      <td>5518</td>\n",
       "      <td>867</td>\n",
       "    </tr>\n",
       "    <tr>\n",
       "      <th>7</th>\n",
       "      <td>Milwaukee</td>\n",
       "      <td>5447</td>\n",
       "      <td>721</td>\n",
       "    </tr>\n",
       "    <tr>\n",
       "      <th>8</th>\n",
       "      <td>Colorado</td>\n",
       "      <td>5544</td>\n",
       "      <td>735</td>\n",
       "    </tr>\n",
       "    <tr>\n",
       "      <th>9</th>\n",
       "      <td>Houston</td>\n",
       "      <td>5598</td>\n",
       "      <td>615</td>\n",
       "    </tr>\n",
       "    <tr>\n",
       "      <th>10</th>\n",
       "      <td>Baltimore</td>\n",
       "      <td>5585</td>\n",
       "      <td>708</td>\n",
       "    </tr>\n",
       "    <tr>\n",
       "      <th>11</th>\n",
       "      <td>Los_An.</td>\n",
       "      <td>5436</td>\n",
       "      <td>644</td>\n",
       "    </tr>\n",
       "    <tr>\n",
       "      <th>12</th>\n",
       "      <td>Chicago</td>\n",
       "      <td>5549</td>\n",
       "      <td>654</td>\n",
       "    </tr>\n",
       "    <tr>\n",
       "      <th>13</th>\n",
       "      <td>Cincinnati</td>\n",
       "      <td>5612</td>\n",
       "      <td>735</td>\n",
       "    </tr>\n",
       "    <tr>\n",
       "      <th>14</th>\n",
       "      <td>Los_P.</td>\n",
       "      <td>5513</td>\n",
       "      <td>667</td>\n",
       "    </tr>\n",
       "    <tr>\n",
       "      <th>15</th>\n",
       "      <td>Philadelphia</td>\n",
       "      <td>5579</td>\n",
       "      <td>713</td>\n",
       "    </tr>\n",
       "    <tr>\n",
       "      <th>16</th>\n",
       "      <td>Chicago</td>\n",
       "      <td>5502</td>\n",
       "      <td>654</td>\n",
       "    </tr>\n",
       "    <tr>\n",
       "      <th>17</th>\n",
       "      <td>Cleveland</td>\n",
       "      <td>5509</td>\n",
       "      <td>704</td>\n",
       "    </tr>\n",
       "    <tr>\n",
       "      <th>18</th>\n",
       "      <td>Arizona</td>\n",
       "      <td>5421</td>\n",
       "      <td>731</td>\n",
       "    </tr>\n",
       "    <tr>\n",
       "      <th>19</th>\n",
       "      <td>Toronto</td>\n",
       "      <td>5559</td>\n",
       "      <td>743</td>\n",
       "    </tr>\n",
       "    <tr>\n",
       "      <th>20</th>\n",
       "      <td>Minnesota</td>\n",
       "      <td>5487</td>\n",
       "      <td>619</td>\n",
       "    </tr>\n",
       "    <tr>\n",
       "      <th>21</th>\n",
       "      <td>Florida</td>\n",
       "      <td>5508</td>\n",
       "      <td>625</td>\n",
       "    </tr>\n",
       "    <tr>\n",
       "      <th>22</th>\n",
       "      <td>Pittsburgh</td>\n",
       "      <td>5421</td>\n",
       "      <td>610</td>\n",
       "    </tr>\n",
       "    <tr>\n",
       "      <th>23</th>\n",
       "      <td>Oakland</td>\n",
       "      <td>5452</td>\n",
       "      <td>645</td>\n",
       "    </tr>\n",
       "    <tr>\n",
       "      <th>24</th>\n",
       "      <td>Tampa</td>\n",
       "      <td>5436</td>\n",
       "      <td>707</td>\n",
       "    </tr>\n",
       "    <tr>\n",
       "      <th>25</th>\n",
       "      <td>Atlanta</td>\n",
       "      <td>5528</td>\n",
       "      <td>641</td>\n",
       "    </tr>\n",
       "    <tr>\n",
       "      <th>26</th>\n",
       "      <td>Washington</td>\n",
       "      <td>5441</td>\n",
       "      <td>624</td>\n",
       "    </tr>\n",
       "    <tr>\n",
       "      <th>27</th>\n",
       "      <td>San.F</td>\n",
       "      <td>5486</td>\n",
       "      <td>570</td>\n",
       "    </tr>\n",
       "    <tr>\n",
       "      <th>28</th>\n",
       "      <td>San.I</td>\n",
       "      <td>5417</td>\n",
       "      <td>593</td>\n",
       "    </tr>\n",
       "    <tr>\n",
       "      <th>29</th>\n",
       "      <td>Seattle</td>\n",
       "      <td>5421</td>\n",
       "      <td>556</td>\n",
       "    </tr>\n",
       "  </tbody>\n",
       "</table>\n",
       "</div>"
      ],
      "text/plain": [
       "         equipos  bateos  runs\n",
       "0          Texas    5659   855\n",
       "1         Boston    5710   875\n",
       "2        Detroit    5563   787\n",
       "3         Kansas    5672   730\n",
       "4            St.    5532   762\n",
       "5         New_S.    5600   718\n",
       "6         New_Y.    5518   867\n",
       "7      Milwaukee    5447   721\n",
       "8       Colorado    5544   735\n",
       "9        Houston    5598   615\n",
       "10     Baltimore    5585   708\n",
       "11       Los_An.    5436   644\n",
       "12       Chicago    5549   654\n",
       "13    Cincinnati    5612   735\n",
       "14        Los_P.    5513   667\n",
       "15  Philadelphia    5579   713\n",
       "16       Chicago    5502   654\n",
       "17     Cleveland    5509   704\n",
       "18       Arizona    5421   731\n",
       "19       Toronto    5559   743\n",
       "20     Minnesota    5487   619\n",
       "21       Florida    5508   625\n",
       "22    Pittsburgh    5421   610\n",
       "23       Oakland    5452   645\n",
       "24         Tampa    5436   707\n",
       "25       Atlanta    5528   641\n",
       "26    Washington    5441   624\n",
       "27         San.F    5486   570\n",
       "28         San.I    5417   593\n",
       "29       Seattle    5421   556"
      ]
     },
     "execution_count": 42,
     "metadata": {},
     "output_type": "execute_result"
    }
   ],
   "source": [
    "datos = pd.DataFrame({'equipos': equipos, 'bateos': bateos, 'runs':\n",
    "runs})\n",
    "datos"
   ]
  },
  {
   "cell_type": "markdown",
   "id": "7e87c25f",
   "metadata": {},
   "source": [
    "Para esto obtenga lo siguiente:\n",
    "1. Obtenga la distribución de los datos"
   ]
  },
  {
   "cell_type": "code",
   "execution_count": 13,
   "id": "2352f82d",
   "metadata": {},
   "outputs": [
    {
     "data": {
      "text/html": [
       "<div>\n",
       "<style scoped>\n",
       "    .dataframe tbody tr th:only-of-type {\n",
       "        vertical-align: middle;\n",
       "    }\n",
       "\n",
       "    .dataframe tbody tr th {\n",
       "        vertical-align: top;\n",
       "    }\n",
       "\n",
       "    .dataframe thead th {\n",
       "        text-align: right;\n",
       "    }\n",
       "</style>\n",
       "<table border=\"1\" class=\"dataframe\">\n",
       "  <thead>\n",
       "    <tr style=\"text-align: right;\">\n",
       "      <th></th>\n",
       "      <th>bateos</th>\n",
       "      <th>runs</th>\n",
       "    </tr>\n",
       "  </thead>\n",
       "  <tbody>\n",
       "    <tr>\n",
       "      <th>count</th>\n",
       "      <td>30.000000</td>\n",
       "      <td>30.000000</td>\n",
       "    </tr>\n",
       "    <tr>\n",
       "      <th>mean</th>\n",
       "      <td>5523.500000</td>\n",
       "      <td>693.600000</td>\n",
       "    </tr>\n",
       "    <tr>\n",
       "      <th>std</th>\n",
       "      <td>79.873067</td>\n",
       "      <td>82.479088</td>\n",
       "    </tr>\n",
       "    <tr>\n",
       "      <th>min</th>\n",
       "      <td>5417.000000</td>\n",
       "      <td>556.000000</td>\n",
       "    </tr>\n",
       "    <tr>\n",
       "      <th>25%</th>\n",
       "      <td>5448.250000</td>\n",
       "      <td>629.000000</td>\n",
       "    </tr>\n",
       "    <tr>\n",
       "      <th>50%</th>\n",
       "      <td>5515.500000</td>\n",
       "      <td>705.500000</td>\n",
       "    </tr>\n",
       "    <tr>\n",
       "      <th>75%</th>\n",
       "      <td>5575.000000</td>\n",
       "      <td>734.000000</td>\n",
       "    </tr>\n",
       "    <tr>\n",
       "      <th>max</th>\n",
       "      <td>5710.000000</td>\n",
       "      <td>875.000000</td>\n",
       "    </tr>\n",
       "  </tbody>\n",
       "</table>\n",
       "</div>"
      ],
      "text/plain": [
       "            bateos        runs\n",
       "count    30.000000   30.000000\n",
       "mean   5523.500000  693.600000\n",
       "std      79.873067   82.479088\n",
       "min    5417.000000  556.000000\n",
       "25%    5448.250000  629.000000\n",
       "50%    5515.500000  705.500000\n",
       "75%    5575.000000  734.000000\n",
       "max    5710.000000  875.000000"
      ]
     },
     "execution_count": 13,
     "metadata": {},
     "output_type": "execute_result"
    }
   ],
   "source": [
    "datos.describe()"
   ]
  },
  {
   "cell_type": "code",
   "execution_count": 16,
   "id": "b4dcc9e9",
   "metadata": {},
   "outputs": [
    {
     "data": {
      "image/png": "[encoded data removed]",
      "text/plain": [
       "<Figure size 640x480 with 1 Axes>"
      ]
     },
     "metadata": {},
     "output_type": "display_data"
    }
   ],
   "source": [
    "#Importar librerias\n",
    "fig,ax = plt.subplots()\n",
    "#cantidad media de habitaciones\n",
    "x = datos[\"bateos\"]\n",
    "ax.hist(x, color = \"tab:blue\")\n",
    "#Titulos\n",
    "plt.title('Grafico de cantidad de bateos')\n",
    "plt.xlabel('x: Cantidad media de bateos')\n",
    "plt.ylabel('y: Frecuencia de bateos')\n",
    "plt.show()"
   ]
  },
  {
   "cell_type": "code",
   "execution_count": null,
   "id": "0251b70b",
   "metadata": {},
   "outputs": [],
   "source": []
  },
  {
   "cell_type": "markdown",
   "id": "3cbab0d2",
   "metadata": {},
   "source": [
    "2. Separe sus datos de entrenamiento en 80/20."
   ]
  },
  {
   "cell_type": "code",
   "execution_count": 18,
   "id": "c47d423a",
   "metadata": {},
   "outputs": [],
   "source": [
    "msk = np.random.rand(len(datos)) < 0.8\n",
    "train = datos[msk]\n",
    "test = datos[~msk]"
   ]
  },
  {
   "cell_type": "markdown",
   "id": "6c2f9eca",
   "metadata": {},
   "source": [
    "3. Ajuste un modelo de regresión lineal."
   ]
  },
  {
   "cell_type": "code",
   "execution_count": 19,
   "id": "75d7d7c5",
   "metadata": {},
   "outputs": [
    {
     "name": "stdout",
     "output_type": "stream",
     "text": [
      "Defaulting to user installation because normal site-packages is not writeable\n",
      "Requirement already satisfied: scikit-learn in c:\\programdata\\anaconda3\\lib\\site-packages (1.2.1)\n",
      "Requirement already satisfied: numpy>=1.17.3 in c:\\programdata\\anaconda3\\lib\\site-packages (from scikit-learn) (1.23.5)\n",
      "Requirement already satisfied: joblib>=1.1.1 in c:\\programdata\\anaconda3\\lib\\site-packages (from scikit-learn) (1.1.1)\n",
      "Requirement already satisfied: threadpoolctl>=2.0.0 in c:\\programdata\\anaconda3\\lib\\site-packages (from scikit-learn) (2.2.0)\n",
      "Requirement already satisfied: scipy>=1.3.2 in c:\\programdata\\anaconda3\\lib\\site-packages (from scikit-learn) (1.10.0)\n"
     ]
    }
   ],
   "source": [
    "!pip install scikit-learn"
   ]
  },
  {
   "cell_type": "code",
   "execution_count": 20,
   "id": "683c0343",
   "metadata": {},
   "outputs": [],
   "source": [
    "import sklearn as skl\n",
    "from sklearn import linear_model\n",
    "# Modelo de entrenamiento\n",
    "lm = linear_model.LinearRegression()"
   ]
  },
  {
   "cell_type": "markdown",
   "id": "360a6a9d",
   "metadata": {},
   "source": [
    "4. Escriba la recta de regresión que obtuvo con sus estimaciones respectivas.\n"
   ]
  },
  {
   "cell_type": "code",
   "execution_count": 32,
   "id": "03554917",
   "metadata": {},
   "outputs": [
    {
     "name": "stdout",
     "output_type": "stream",
     "text": [
      "Coefficients:  [[0.64702659]]\n",
      "Intercept:  [-2875.62673477]\n",
      "\n",
      "\n",
      "La recta es: y = x *  [[0.64702659]]  +  [-2875.62673477]\n"
     ]
    }
   ],
   "source": [
    "from sklearn import linear_model\n",
    "regr = linear_model.LinearRegression()\n",
    "train_x = np.asanyarray(train[['bateos']])\n",
    "train_y = np.asanyarray(train[['runs']])\n",
    "regr.fit(train_x, train_y)\n",
    "# The coefficients\n",
    "print ('Coefficients: ', regr.coef_)\n",
    "print ('Intercept: ',regr.intercept_)\n",
    "print ('\\n')\n",
    "print ('La recta es: y = x * ',regr.coef_ ,' + ',regr.intercept_)"
   ]
  },
  {
   "cell_type": "markdown",
   "id": "7b0f9747",
   "metadata": {},
   "source": [
    "5. Obtenga la gráfica de los datos y su recta de regresión"
   ]
  },
  {
   "cell_type": "code",
   "execution_count": 40,
   "id": "b7083290",
   "metadata": {},
   "outputs": [
    {
     "data": {
      "text/plain": [
       "Text(0.5, 1.0, 'Grafico de regresion')"
      ]
     },
     "execution_count": 40,
     "metadata": {},
     "output_type": "execute_result"
    },
    {
     "data": {
      "image/png": "[encoded data removed]",
      "text/plain": [
       "<Figure size 640x480 with 1 Axes>"
      ]
     },
     "metadata": {},
     "output_type": "display_data"
    }
   ],
   "source": [
    "import seaborn as sns\n",
    "%matplotlib inline\n",
    "# A través del dibujo, puede hacer una observación intuitiva sobre la relación lineal de los datos\n",
    "sns.regplot(x='bateos',y='runs',data=datos)\n",
    "plt.title('Grafico de regresion')"
   ]
  },
  {
   "cell_type": "markdown",
   "id": "1c0b2699",
   "metadata": {},
   "source": [
    "6. Obtenga las métricas: MAE, MSE, RMSE."
   ]
  },
  {
   "cell_type": "code",
   "execution_count": 37,
   "id": "db1e168b",
   "metadata": {},
   "outputs": [
    {
     "name": "stdout",
     "output_type": "stream",
     "text": [
      "Mean absolute error (MAE): 53.03\n",
      "Residual sum of squares (MSE): 3064.09\n",
      "R2-score (RMSE): 55.35\n"
     ]
    }
   ],
   "source": [
    "from sklearn.metrics import r2_score\n",
    "\n",
    "test_x = np.asanyarray(test[['bateos']])\n",
    "test_y = np.asanyarray(test[['runs']])\n",
    "test_y_ = regr.predict(test_x)\n",
    "mse = np.mean((test_y_ - test_y) ** 2)\n",
    "\n",
    "print(\"Mean absolute error (MAE): %.2f\" % np.mean(np.absolute(test_y_ - test_y)))\n",
    "print(\"Residual sum of squares (MSE): %.2f\" % np.mean((test_y_ - test_y) ** 2))\n",
    "print(\"R2-score (RMSE): %.2f\" % np.sqrt(mse) )"
   ]
  },
  {
   "cell_type": "markdown",
   "id": "640ce9e4",
   "metadata": {},
   "source": [
    "7. Concluya con los datos obtenidos y comente la problemática que le han\n",
    "planteado al principio."
   ]
  },
  {
   "cell_type": "markdown",
   "id": "09901820",
   "metadata": {},
   "source": [
    "Se concluye que los batos son valores mucho mas grandes que los runs en proporcion, por equipos. Estos tienen una tendencia de aumento, sin embargo los valores se encuentran dispersos. Respecto al los errores de los datos contra el modelo de la recta de regresion, y los valores reales son altos. Por lo que la relación entre el número de veces que batean los jugadores de un equipo de béisbol y el número de runs que consigue, no esta relacionado fuertemente."
   ]
  }
 ],
 "metadata": {
  "kernelspec": {
   "display_name": "Python 3 (ipykernel)",
   "language": "python",
   "name": "python3"
  },
  "language_info": {
   "codemirror_mode": {
    "name": "ipython",
    "version": 3
   },
   "file_extension": ".py",
   "mimetype": "text/x-python",
   "name": "python",
   "nbconvert_exporter": "python",
   "pygments_lexer": "ipython3",
   "version": "3.10.9"
  }
 },
 "nbformat": 4,
 "nbformat_minor": 5
}
