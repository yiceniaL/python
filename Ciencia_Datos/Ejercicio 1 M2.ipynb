{
 "cells": [
  {
   "cell_type": "markdown",
   "id": "8d839bae",
   "metadata": {},
   "source": [
    "1. Dadas 2 matrices con dimensiones similares, ¿cómo obtener una salida de matriz en la que cada elemento es una suma de elementos de las 2 matrices? (solo puede usar numpy como librería, si realiza la matriz con otro paquete el ejercicio no es válido)"
   ]
  },
  {
   "cell_type": "code",
   "execution_count": 16,
   "id": "b1d1fd41",
   "metadata": {},
   "outputs": [
    {
     "name": "stdout",
     "output_type": "stream",
     "text": [
      "[5, 7, 9]\n"
     ]
    }
   ],
   "source": [
    "#Importar la libreria\n",
    "import numpy as np\n",
    "#Lista vacia\n",
    "A = []\n",
    "#Matriz ejemplo de dimensiones iguales\n",
    "a1 = np.array([1, 2, 3])\n",
    "a2 = np.array([4, 5, 6])\n",
    "\n",
    "#Ciclo de suma de las matrices\n",
    "for i in range(len(a1)):\n",
    "    a = a1[i] + a2[i]\n",
    "    A.append(a)\n",
    "#Imprimir la matriz\n",
    "print(A)"
   ]
  },
  {
   "cell_type": "markdown",
   "id": "6a1d3d5e",
   "metadata": {},
   "source": [
    "2. Cree una matriz de identidad de dimensión 4."
   ]
  },
  {
   "cell_type": "code",
   "execution_count": 18,
   "id": "cb1de80c",
   "metadata": {},
   "outputs": [
    {
     "name": "stdout",
     "output_type": "stream",
     "text": [
      "[[1. 0. 0. 0.]\n",
      " [0. 1. 0. 0.]\n",
      " [0. 0. 1. 0.]\n",
      " [0. 0. 0. 1.]]\n"
     ]
    }
   ],
   "source": [
    "print(np.identity(4))"
   ]
  },
  {
   "cell_type": "markdown",
   "id": "77f609c9",
   "metadata": {},
   "source": [
    "3. Convierte una matriz numpy binaria (que contiene solo 0 y 1) en una matriz numpy booleana."
   ]
  },
  {
   "cell_type": "code",
   "execution_count": 24,
   "id": "5302d940",
   "metadata": {},
   "outputs": [
    {
     "name": "stdout",
     "output_type": "stream",
     "text": [
      "[[1. 0. 0.]\n",
      " [0. 1. 0.]\n",
      " [0. 0. 1.]]\n",
      "\n",
      "\n",
      "[[ True False False]\n",
      " [False  True False]\n",
      " [False False  True]]\n"
     ]
    }
   ],
   "source": [
    "#Lista binaria y booleana\n",
    "ListaBinaria = np.identity(3)\n",
    "ListaBooleana = np.array(ListaBinaria, dtype=bool)\n",
    "#Imprimir Resultado\n",
    "print(ListaBinaria)\n",
    "print(f\"\\n\")\n",
    "print(ListaBooleana)"
   ]
  },
  {
   "cell_type": "markdown",
   "id": "e27622a3",
   "metadata": {},
   "source": [
    "4. Genere una secuencia de números en forma de matriz numpy de 0 a 100 con espacios de 2 números, por ejemplo: 0, 2, 4 ..."
   ]
  },
  {
   "cell_type": "code",
   "execution_count": 34,
   "id": "bc19cd09",
   "metadata": {},
   "outputs": [
    {
     "name": "stdout",
     "output_type": "stream",
     "text": [
      "[  0   2   4   6   8  10  12  14  16  18  20  22  24  26  28  30  32  34\n",
      "  36  38  40  42  44  46  48  50  52  54  56  58  60  62  64  66  68  70\n",
      "  72  74  76  78  80  82  84  86  88  90  92  94  96  98 100 102 104 106\n",
      " 108 110 112 114 116 118 120 122 124 126 128 130 132 134 136 138 140 142\n",
      " 144 146 148 150 152 154 156 158 160 162 164 166 168 170 172 174 176 178\n",
      " 180 182 184 186 188 190 192 194 196 198]\n"
     ]
    }
   ],
   "source": [
    "#Matriz de 200 elementos\n",
    "arrayA = np.arange(200)\n",
    "#Solo se mantienen los elementos pares, queda en 200 para que se terminen con 100 elementos\n",
    "print(arrayA[(arrayA % 2 == 0)])"
   ]
  }
 ],
 "metadata": {
  "kernelspec": {
   "display_name": "Python 3 (ipykernel)",
   "language": "python",
   "name": "python3"
  },
  "language_info": {
   "codemirror_mode": {
    "name": "ipython",
    "version": 3
   },
   "file_extension": ".py",
   "mimetype": "text/x-python",
   "name": "python",
   "nbconvert_exporter": "python",
   "pygments_lexer": "ipython3",
   "version": "3.10.9"
  }
 },
 "nbformat": 4,
 "nbformat_minor": 5
}
