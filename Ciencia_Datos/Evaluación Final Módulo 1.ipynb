{
 "cells": [
  {
   "cell_type": "markdown",
   "id": "40537d36",
   "metadata": {},
   "source": [
    "1. La Agencia de Control de Tránsito ha decidido implementar un sistema de colores en todas las placas de vehículos, basado en el último dígito de las mismas."
   ]
  },
  {
   "cell_type": "markdown",
   "id": "b760e23f",
   "metadata": {},
   "source": [
    "Considerando la siguiente tabla:\n",
    "    \n",
    "    1,2 Amarillo Codigo 1\n",
    "    3,4 Cafe Codigo 2\n",
    "    5,6 Rojo Codigo 3\n",
    "    7,8 Azul Codigo 4\n",
    "    3,4 Verde Codigo 2 \n",
    "    \n",
    "La institución necesita su ayuda para crear un algoritmo que:\n",
    "- Reciba los dos últimos números de la placa y el número n de vehículos a procesar.\n",
    "- Muestre la cantidad de placas de cada color de vehículo que es necesario fabricar y reemplazar."
   ]
  },
  {
   "cell_type": "code",
   "execution_count": 64,
   "id": "b14d27d5",
   "metadata": {},
   "outputs": [
    {
     "name": "stdout",
     "output_type": "stream",
     "text": [
      "Cantidad de placas a procesar 3\n",
      "\n",
      "\n",
      "Ingresa el penultimo digito de la placa del vehiculo 4\n",
      "Ingresa el ultimo digito de la placa del vehiculo 7\n",
      "\n",
      "\n",
      "Ingresa el penultimo digito de la placa del vehiculo 2\n",
      "Ingresa el ultimo digito de la placa del vehiculo 9\n",
      "\n",
      "\n",
      "Ingresa el penultimo digito de la placa del vehiculo 3\n",
      "Ingresa el ultimo digito de la placa del vehiculo 3\n",
      "\n",
      "\n",
      "La cantidad de placa amarilla a fabricar son 0\n",
      "La cantidad de placas cafe a fabricar son 1\n",
      "La cantidad de placa rojo a fabricar son 0\n",
      "La cantidad de placa azul fabricar son 1\n",
      "La cantidad de placa verde fabricar son 1\n"
     ]
    }
   ],
   "source": [
    "#Valores iniciales\n",
    "Placa1 = []\n",
    "Placa2 = []\n",
    "n = -1\n",
    "amarillo = 0\n",
    "cafe = 0\n",
    "rojo = 0\n",
    "azul = 0\n",
    "verde = 0\n",
    "i = 0\n",
    "\n",
    "#Cantidad a analizar\n",
    "n = int(input(\"Cantidad de placas a procesar \"))\n",
    "#Espacio\n",
    "print(f\"\\n\")\n",
    "\n",
    "#Ingresar los valores de las placas\n",
    "for n in range(n):\n",
    "    n = n + 1\n",
    "    Ingreso1 = int(input(\"Ingresa el penultimo digito de la placa del vehiculo \"))\n",
    "    Ingreso2 = int(input(\"Ingresa el ultimo digito de la placa del vehiculo \"))\n",
    "    #Espacio\n",
    "    print(f\"\\n\")\n",
    "    #Agregar a las listas\n",
    "    Placa1.append(Ingreso1)\n",
    "    Placa2.append(Ingreso2)\n",
    "\n",
    "#Contar las canidades de las placas y los colores\n",
    "for i in range(len(Placa2)):\n",
    "    if Placa2[i] == 1 or Placa2[i] == 2:\n",
    "        amarillo = amarillo +1\n",
    "    elif Placa2[i] == 3 or Placa2[i] == 4:\n",
    "        cafe = cafe + 1\n",
    "    elif Placa2[i] == 5 or Placa2[i] == 6:\n",
    "        rojo = rojo + 1\n",
    "    elif Placa2[i] == 7 or Placa2[i] == 8:\n",
    "        azul = azul + 1\n",
    "    elif Placa2[i] == 9 or Placa2[i] == 0:\n",
    "        verde = verde + 1\n",
    "    i = i + 1\n",
    "\n",
    "#Imprimir los resultados\n",
    "print(\"La cantidad de placa amarilla a fabricar son \" + str(amarillo))\n",
    "print(\"La cantidad de placas cafe a fabricar son \" + str(cafe))\n",
    "print(\"La cantidad de placa rojo a fabricar son \" + str(rojo))  \n",
    "print(\"La cantidad de placa azul fabricar son \" + str(azul))   \n",
    "print(\"La cantidad de placa verde fabricar son \" + str(verde))   "
   ]
  }
 ],
 "metadata": {
  "kernelspec": {
   "display_name": "Python 3 (ipykernel)",
   "language": "python",
   "name": "python3"
  },
  "language_info": {
   "codemirror_mode": {
    "name": "ipython",
    "version": 3
   },
   "file_extension": ".py",
   "mimetype": "text/x-python",
   "name": "python",
   "nbconvert_exporter": "python",
   "pygments_lexer": "ipython3",
   "version": "3.10.9"
  }
 },
 "nbformat": 4,
 "nbformat_minor": 5
}
