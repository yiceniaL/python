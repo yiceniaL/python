{
 "cells": [
  {
   "cell_type": "markdown",
   "id": "b30d3649",
   "metadata": {},
   "source": [
    "1. Escribir un programa que almacene la cadena ¡Hola Mundo! en una variable y luego muestre por pantalla el contenido de la variable."
   ]
  },
  {
   "cell_type": "code",
   "execution_count": 6,
   "id": "cdb48e01",
   "metadata": {},
   "outputs": [
    {
     "name": "stdout",
     "output_type": "stream",
     "text": [
      "¡Hola Mundo!\n"
     ]
    }
   ],
   "source": [
    "#Para que inicie \n",
    "a = \"¡Hola Mundo!\"\n",
    "print(a)"
   ]
  },
  {
   "cell_type": "markdown",
   "id": "2afbbe7a",
   "metadata": {},
   "source": [
    "2. Escribir un programa que pregunte al usuario por el número de horas trabajadas y el pago por hora. Después debe mostrar por pantalla el pago que le corresponde. "
   ]
  },
  {
   "cell_type": "code",
   "execution_count": 11,
   "id": "b546fef6",
   "metadata": {},
   "outputs": [
    {
     "name": "stdout",
     "output_type": "stream",
     "text": [
      "¿Cuántas fueron tus horas trabajadas?8\n",
      "¿Cuanto es tu pago por hora?9\n",
      "El pago total es de $ 72\n"
     ]
    }
   ],
   "source": [
    "#Consultas\n",
    "hrs = float(input(\"¿Cuántas fueron tus horas trabajadas?\"))\n",
    "pagoxhora = int(input(\"¿Cuanto es tu pago por hora?\"))\n",
    "\n",
    "#Calculo del pago\n",
    "pago = hrs * pagoxhora\n",
    "\n",
    "#Resultado\n",
    "print(\"El pago total es de $\", int(pago))"
   ]
  },
  {
   "cell_type": "markdown",
   "id": "10b3bff7",
   "metadata": {},
   "source": [
    "3. Una panadería vende el pan a $1200 cada Kg. El pan que no es el día tiene un descuento del 60%. Escribe un programa que comience leyendo el número de Kilos vendidos que no son del día. Después tu programa debe mostrar el precio habitual del kilo de pan, el descuento que se le hace por no ser fresco y el costo final total."
   ]
  },
  {
   "cell_type": "code",
   "execution_count": 15,
   "id": "21e8823e",
   "metadata": {},
   "outputs": [
    {
     "name": "stdout",
     "output_type": "stream",
     "text": [
      "¿Cuanto son los Kilos vendidos que no son del día?8\n",
      "El pago total es de $ 3840\n"
     ]
    }
   ],
   "source": [
    "#Calculo del pan que no es del dia\n",
    "p = 1200 * (1-0.6)\n",
    "#Consulta de los kilo\n",
    "k = float(input(\"¿Cuanto son los Kilos vendidos que no son del día?\"))\n",
    "\n",
    "#Calculo\n",
    "costototal = p * k\n",
    "\n",
    "#Resultado\n",
    "print(\"El pago total es de $\", int(costototal))"
   ]
  },
  {
   "cell_type": "markdown",
   "id": "522f8edc",
   "metadata": {},
   "source": [
    "4. Dado el sueldo de un trabajador, aplique un aumento del 15% si su sueldo es inferior a $200.000. Imprima el resultado."
   ]
  },
  {
   "cell_type": "code",
   "execution_count": 19,
   "id": "3549e91a",
   "metadata": {},
   "outputs": [
    {
     "name": "stdout",
     "output_type": "stream",
     "text": [
      "¿Cual es tu sueldo?789\n",
      "El resultado es de $ 907\n"
     ]
    }
   ],
   "source": [
    "#Consulta del sueldo\n",
    "sueldo = float(input(\"¿Cual es tu sueldo?\"))\n",
    "\n",
    "#Condicion para el calculo y resultados\n",
    "if sueldo<200000 :\n",
    "    sueldo_final = sueldo * 1.15\n",
    "    print(\"El resultado es de $\", int(sueldo_final))\n",
    "else:\n",
    "    sueldo_final = sueldo\n",
    "    print(\"El resultado es de $\", int(sueldo_final))"
   ]
  },
  {
   "cell_type": "markdown",
   "id": "4401faba",
   "metadata": {},
   "source": [
    "5. Se coloca un capital C, a un interés I (que oscila entre 0 y 100), durante M años y se desea saber en cuánto se habrá convertido ese capital en “M” años, sabiendo que es acumulativo."
   ]
  },
  {
   "cell_type": "code",
   "execution_count": 61,
   "id": "a375b93b",
   "metadata": {},
   "outputs": [
    {
     "name": "stdout",
     "output_type": "stream",
     "text": [
      "¿Cuál es tu capital? 8\n",
      "¿Cuál es el interes? 4\n",
      "¿A cuántos años? 5\n",
      "El resultado del capital acumulado es $ 8.828401920000001\n"
     ]
    }
   ],
   "source": [
    "#Para que inicie cumpliendo las condiciones \n",
    "c = -10\n",
    "i = -10\n",
    "m = 0\n",
    "\n",
    "#Condicion para el calculo\n",
    "while  (i>=100) or (m<=0) or (c<0) or (i<=0):\n",
    "    c = int( input(\"¿Cuál es tu capital? \"))\n",
    "    i = int( input(\"¿Cuál es el interes? \"))\n",
    "    m = int( input(\"¿A cuántos años? \"))\n",
    "\n",
    "#Calculo del total acumulado \n",
    "for i in range(m):\n",
    "    c = c*( 1 + (i/100))\n",
    "\n",
    "#Resultado\n",
    "print (\"El resultado del capital acumulado es $\", c)"
   ]
  },
  {
   "cell_type": "markdown",
   "id": "07034ff8",
   "metadata": {},
   "source": [
    "6. Escriba una función que muestre por pantalla el resultado de multiplicar un número por 10."
   ]
  },
  {
   "cell_type": "code",
   "execution_count": 21,
   "id": "f777dc34",
   "metadata": {},
   "outputs": [
    {
     "name": "stdout",
     "output_type": "stream",
     "text": [
      "Ingrese un numero3\n",
      "Tabla del: 3\n",
      "3 x 0 = 0\n",
      "3 x 1 = 3\n",
      "3 x 2 = 6\n",
      "3 x 3 = 9\n",
      "3 x 4 = 12\n",
      "3 x 5 = 15\n",
      "3 x 6 = 18\n",
      "3 x 7 = 21\n",
      "3 x 8 = 24\n",
      "3 x 9 = 27\n",
      "3 x 10 = 30\n"
     ]
    }
   ],
   "source": [
    "#Consulta del numero a multiplicar\n",
    "n = int(input(\"Ingrese un numero \"))\n",
    "\n",
    "#Resultado \n",
    "print(\"Tabla del:\", n)\n",
    "for i in range(11):\n",
    "    r = n*i\n",
    "    print(n, \"x\", i, \"=\", r)"
   ]
  },
  {
   "cell_type": "markdown",
   "id": "0f184d62",
   "metadata": {},
   "source": [
    "7. Desarrolle un programa que pida la anchura y altura de un rectángulo y\n",
    "lo dibuje con caracteres producto "
   ]
  },
  {
   "cell_type": "code",
   "execution_count": 79,
   "id": "b57f7390",
   "metadata": {},
   "outputs": [
    {
     "name": "stdout",
     "output_type": "stream",
     "text": [
      "¿Cual es el alto?5\n",
      "¿Cual es el ancho?4\n",
      "* * * * \n",
      "*     *\n",
      "*     *\n",
      "*     *\n",
      "* * * * \n"
     ]
    }
   ],
   "source": [
    "#Consultas del porte\n",
    "alto = int(input(\"¿Cual es el alto?\"))\n",
    "ancho = int(input(\"¿Cual es el ancho?\"))\n",
    "\n",
    "#Arriba\n",
    "largo = ancho*\"* \"\n",
    "print(largo)\n",
    "\n",
    "for i in range(alto-2):\n",
    "    #Lado izquerdo\n",
    "    vertical = \"*\"\n",
    "    #Lado derecho\n",
    "    v = 2*(ancho-1)\n",
    "    verical1 = vertical.ljust(v) + \"*\"\n",
    "    print(verical1)\n",
    "\n",
    "#Abajo\n",
    "print(largo)\n"
   ]
  },
  {
   "cell_type": "markdown",
   "id": "61f19497",
   "metadata": {},
   "source": [
    "8. Escribir una función sum() y una función multip() que sumen y multipliquen respectivamente todos los números de una lista. Por ejemplo: sum([1,2,3,4]) debería devolver 10 y multip([1,2,3,4]) debería devolver 24."
   ]
  },
  {
   "cell_type": "code",
   "execution_count": 51,
   "id": "b8efe4cc",
   "metadata": {},
   "outputs": [
    {
     "name": "stdout",
     "output_type": "stream",
     "text": [
      "Lista a evaluar :  [1, 2, 3, 4, 5]\n",
      "Suma de la lista es:  15\n",
      "Multimplicacion de la lista es:  120\n"
     ]
    }
   ],
   "source": [
    "#Lista modelo\n",
    "lista=[1,2,3,4,5]\n",
    "print(\"Lista a evaluar : \", lista[:])\n",
    "\n",
    "#Calculo de la suma\n",
    "def suma(l):\n",
    "    n = 0\n",
    "    for i in l:\n",
    "        n+= i\n",
    "    return n\n",
    "print(\"Suma de la lista es: \", suma(lista))\n",
    "\n",
    "#Calculo de la multimplicacion\n",
    "def multiplicacion(l):\n",
    "    n = 1\n",
    "    for i in l:\n",
    "        n*= i\n",
    "    return n\n",
    "print(\"Multimplicacion de la lista es: \", multiplicacion(lista))"
   ]
  },
  {
   "cell_type": "markdown",
   "id": "5c4e2d56",
   "metadata": {},
   "source": [
    "9. Crear una función que tome una lista de dígitos y devuelva al número al que corresponden. Por ejemplo [1,2,3] corresponde a el número ciento veintitrés (123) . (Puede utilizar la función reduce())"
   ]
  },
  {
   "cell_type": "code",
   "execution_count": 57,
   "id": "c03bb7b2",
   "metadata": {},
   "outputs": [
    {
     "name": "stdout",
     "output_type": "stream",
     "text": [
      "Lista a evaluar :  [1, 2, 3, 4, 5]\n",
      "El resultdo es:  12345\n"
     ]
    }
   ],
   "source": [
    "#Lista modelo\n",
    "lista=[1,2,3,4,5]\n",
    "print(\"Lista a evaluar : \", lista[:])\n",
    "\n",
    "#Libreria importada\n",
    "from functools import reduce\n",
    "#Reductor\n",
    "def red(digitos):\n",
    "    return reduce(lambda x,y:x*10 + y,digitos)\n",
    "\n",
    "#Resulato\n",
    "print(\"El resultdo es: \", red(lista[:]))"
   ]
  }
 ],
 "metadata": {
  "kernelspec": {
   "display_name": "Python 3 (ipykernel)",
   "language": "python",
   "name": "python3"
  },
  "language_info": {
   "codemirror_mode": {
    "name": "ipython",
    "version": 3
   },
   "file_extension": ".py",
   "mimetype": "text/x-python",
   "name": "python",
   "nbconvert_exporter": "python",
   "pygments_lexer": "ipython3",
   "version": "3.10.9"
  }
 },
 "nbformat": 4,
 "nbformat_minor": 5
}
