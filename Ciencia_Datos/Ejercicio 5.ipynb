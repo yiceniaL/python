{
 "cells": [
  {
   "cell_type": "markdown",
   "id": "5ec94514",
   "metadata": {},
   "source": [
    "1. Para el siguientes ejemplo, proporcione la(s) excepción(es) adecuada(s):"
   ]
  },
  {
   "cell_type": "code",
   "execution_count": null,
   "id": "929403d8",
   "metadata": {},
   "outputs": [],
   "source": [
    "#Valores establecidos\n",
    "def this_fails():\n",
    "    a = 10\n",
    "    b = 0\n",
    "    c = a/b\n",
    "    print(\"a/b = \" + str(c))\n",
    "#La falla\n",
    "try:\n",
    "    this_fails()\n",
    "#Error al dividir en cero\n",
    "except ZeroDivisionError as err:\n",
    "    print('Handling run-time error: Error al divir en cero, ', err)"
   ]
  },
  {
   "cell_type": "markdown",
   "id": "43b42d33",
   "metadata": {},
   "source": [
    "2. Con el ejercicio anterior, cree un programa que le pida ingresar los valores al usuario."
   ]
  },
  {
   "cell_type": "code",
   "execution_count": null,
   "id": "28979881",
   "metadata": {},
   "outputs": [],
   "source": [
    "#Valores establecidos\n",
    "while True:\n",
    "    #La falla\n",
    "    try:\n",
    "        a = float(input(\"Ingresa el valor del dividendo \"))\n",
    "        b = float(input(\"Ingresa el valor del divisor \"))\n",
    "        c = a/b\n",
    "        print(\"a/b = \" + str(c))\n",
    "        break\n",
    "    #Error al dividir en cero\n",
    "    except ZeroDivisionError as err:\n",
    "        print('Handling run-time error: Error al divir en cero, ', err)\n",
    "    #Error al dividir al escribir un valor \n",
    "    except ValueError:\n",
    "        print('Handling run-time error: Error al escribir palabras en vez de numeros')"
   ]
  },
  {
   "cell_type": "markdown",
   "id": "2627e0d0",
   "metadata": {},
   "source": [
    "3. Cree una función de interés simple, entregando una excepción si la tasa es superior a 100."
   ]
  },
  {
   "cell_type": "markdown",
   "id": "631fb29f",
   "metadata": {},
   "source": [
    "- El programa debe recibir: monto, año y tasa.\n",
    "- El cálculo de interes será: (monto * año * tasa) / 100\n",
    "- Agregue mensajes adecuados al contexto, para la interacción del programa."
   ]
  },
  {
   "cell_type": "code",
   "execution_count": 20,
   "id": "5568d41f",
   "metadata": {},
   "outputs": [
    {
     "name": "stdout",
     "output_type": "stream",
     "text": [
      "Ingresa el valor del monto -6\n",
      "Ingresa el del año 5\n",
      "Ingresa el valor de la tasa 4\n",
      "Handling run-time error: Error al escribir un valor negativo\n"
     ]
    }
   ],
   "source": [
    "#Valores establecidos\n",
    "while True:\n",
    "    #La falla\n",
    "    try:\n",
    "        monto = float(input(\"Ingresa el valor del monto \"))\n",
    "        year = float(input(\"Ingresa el del año \"))\n",
    "        tasa = float(input(\"Ingresa el valor de la tasa \"))\n",
    "        #Error al usar una tasa mayor a lo permitido\n",
    "        if tasa > 100:\n",
    "            print('Handling run-time error: Error al escribir una tasa es superior a 100')\n",
    "        #Error al usar un valor menor a lo permitido\n",
    "        elif monto < 0 or year < 0 or tasa <0 :\n",
    "            print('Handling run-time error: Error al escribir un valor negativo')\n",
    "        else:\n",
    "            #Calculo\n",
    "            interes = (monto * year * tasa)/100\n",
    "            print(\"El interes es de \" + str(interes))\n",
    "        break\n",
    "    #Error al dividir al escribir un valor \n",
    "    except ValueError:\n",
    "        print('Handling run-time error: Error al escribir palabras en vez de numeros')"
   ]
  }
 ],
 "metadata": {
  "kernelspec": {
   "display_name": "Python 3 (ipykernel)",
   "language": "python",
   "name": "python3"
  },
  "language_info": {
   "codemirror_mode": {
    "name": "ipython",
    "version": 3
   },
   "file_extension": ".py",
   "mimetype": "text/x-python",
   "name": "python",
   "nbconvert_exporter": "python",
   "pygments_lexer": "ipython3",
   "version": "3.10.9"
  }
 },
 "nbformat": 4,
 "nbformat_minor": 5
}
