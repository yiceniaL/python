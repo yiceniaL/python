{
 "cells": [
  {
   "cell_type": "markdown",
   "id": "920b936b",
   "metadata": {},
   "source": [
    "1.- Crear un programa que sea capaz de leer el archivo videojuegos.csv, luego sacar el promedio de los precios y el promedio de la calificación.\n",
    "\n",
    "videojuegos.csv"
   ]
  },
  {
   "cell_type": "code",
   "execution_count": 46,
   "id": "096ffdd8",
   "metadata": {},
   "outputs": [
    {
     "name": "stdout",
     "output_type": "stream",
     "text": [
      "['ï»¿Nombre', 'CalificaciÃƒÂ³n', 'Precio']\n",
      "['Cuphead', '100', '180']\n",
      "['Doom eternal', '99', '1400']\n",
      "['Horizon Zero Dawn', '90', '450.7']\n",
      "['Resident Evil 2 Remake', '95', '450.88']\n",
      "['Super Mario Odyssey', '90', '1700.05']\n",
      "['Minecraft', '95', '550.54']\n"
     ]
    }
   ],
   "source": [
    "import csv\n",
    "with open('videojuegos1_.csv', newline='') as File:\n",
    "    reader = csv.reader(File)\n",
    "    for row in reader:\n",
    "        print(row)"
   ]
  },
  {
   "cell_type": "code",
   "execution_count": 58,
   "id": "ff7bc303",
   "metadata": {},
   "outputs": [
    {
     "name": "stdout",
     "output_type": "stream",
     "text": [
      "El promedio de precio es 788.7 y promedio calificacion es 94.83\n"
     ]
    }
   ],
   "source": [
    "#Abrir archivo\n",
    "with open(\"videojuegos1_.csv\", \"r\") as archivo:\n",
    "    lector = csv.reader(archivo, delimiter=\",\")\n",
    "    # Tomar el archivo menos la primera fila con descripcion \n",
    "    next(lector, None)\n",
    "    #Valores iniciales\n",
    "    calificacion = 0\n",
    "    precio = 0\n",
    "    n = 0\n",
    "    #Iniciar el cilco for \n",
    "    for i in lector:\n",
    "        # sumo todos los valores de precio y calificacion        \n",
    "        calificacion = float(i[1]) + calificacion\n",
    "        precio = float(i[2]) + precio    \n",
    "        #suma del contador\n",
    "        n = n + 1\n",
    "    #Calculo de los promedios\n",
    "    prom_precio = round(precio / n , 2)\n",
    "    prom_calificacion = round(calificacion / n, 2)\n",
    "    \n",
    "    #Imprimir el resultado\n",
    "    print( f\"El promedio de precio es {prom_precio} y promedio calificacion es {prom_calificacion}\")"
   ]
  },
  {
   "cell_type": "markdown",
   "id": "529e7572",
   "metadata": {},
   "source": [
    "2.- Se tiene el archivo videojuegos2.csv con información sobre todo el contenido de su biblioteca de videojuegos. Note que un juego aparecerá listado en el archivo una vez por cada consola en la que fue lanzado. La categoría del juego se especifica siempre en el primer Tag. Por ejemplo, Double Dragon pertenece a la categoría Beat-‘em up.\n",
    "\n",
    "El archivo tiene la siguiente estructura:\n",
    "\n",
    "videojuegos2.csv"
   ]
  },
  {
   "cell_type": "code",
   "execution_count": 100,
   "id": "c9b2c76c",
   "metadata": {},
   "outputs": [
    {
     "name": "stdout",
     "output_type": "stream",
     "text": [
      "['ï»¿Nombre', 'AÃƒÂ±o', 'Consola', 'Calificacion', 'Tags(separados por ']\n",
      "['The Legend of Zelda', '86', 'Famicom Disk System', '3.5', 'RPG']\n",
      "['Double Dragon', '87', 'Arcade', '3.7', \"Beat-'em up\"]\n",
      "['The Legend of Zelda', '88', 'NES', '4.3', 'RPG']\n",
      "['Halo 5: Guardians', '15', 'Xbox One', '4', 'FPS']\n",
      "['Curse of Ra', '82', 'Commodore PET', '3', 'RPG']\n",
      "['Battlefield 1', '16', 'Xbox One', '4.8', 'FPS']\n"
     ]
    }
   ],
   "source": [
    "import csv\n",
    "with open('videojuegos2_.csv', newline='') as File:\n",
    "    reader = csv.reader(File)\n",
    "    for row in reader:\n",
    "        print(row)"
   ]
  },
  {
   "cell_type": "markdown",
   "id": "dae99adf",
   "metadata": {},
   "source": [
    "Desarrolle lo siguiente:\n",
    "\n",
    "a) La función juegosConsolas(nomArchivo, categoria, decada) que recibe el nombre del archivo con la información de los videojuegos, una categoría y número de cuatro dígitos representando una década de años. La función retorna una tupla con 2 elementos. El primer elemento es la lista con los valores únicos de todos los juegos de esa década para esa categoría. El segundo elemento es la lista con valores únicos de todas las consolas que tienen juegos para esa década y categoría. Por ejemplo, para llamar a juegosConsolas('videojuegos.csv','RPG',1980) retorna:\n",
    "\n",
    "(['The legend of Zelda', 'Phantasy Star', ...], ['NES', 'Famicon Disk System', ...])"
   ]
  },
  {
   "cell_type": "code",
   "execution_count": 182,
   "id": "f1a7e547",
   "metadata": {},
   "outputs": [
    {
     "name": "stdout",
     "output_type": "stream",
     "text": [
      "(['The Legend of Zelda', 'The Legend of Zelda', 'Curse of Ra'], ['Famicom Disk System', 'NES', 'Commodore PET'])\n"
     ]
    }
   ],
   "source": [
    "def juegosConsolas(nomArchivo, categoria, decada):\n",
    "#Abrir archivo\n",
    "    with open(nomArchivo, \"r\") as archivo:\n",
    "        lector = csv.reader(archivo, delimiter=\",\")\n",
    "        # Tomar el archivo menos la primera fila con descripcion \n",
    "        next(lector, None)\n",
    "        #Valores iniciales\n",
    "        i = 0\n",
    "        L1 = []\n",
    "        L2 = []\n",
    "        Tupla = ()\n",
    "        #\"86\" es \"1986\"\n",
    "        #\"87\" es \"1987\"\n",
    "        #\"88\" es \"1988\"\n",
    "        #\"15\" es \"2015\"\n",
    "        #\"82\" es \"1982\"\n",
    "        #\"16\" es \"2016\"\n",
    "        #Iniciar el cilco for \n",
    "        for i in lector: \n",
    "            #Si se cumplen las condiciones de categoria y decadaa agergar a la lista\n",
    "            if i[4] == categoria and (int(i[1]) > int(decada) or int(i[1]) <= int(decada) + 10):\n",
    "                L1.append(i[0])\n",
    "                L2.append(i[2])\n",
    "                Tupla = (L1, L2)\n",
    "        #Mostrar la tupla\n",
    "        print(Tupla)\n",
    "                \n",
    "juegosConsolas(\"videojuegos2_.csv\", \"RPG\", 1980)   "
   ]
  },
  {
   "cell_type": "markdown",
   "id": "9f5d71a8",
   "metadata": {},
   "source": [
    "b) La función crearMatriz(nomArchivo, categoria, decada) que recibe el nombre del archivo con la información de los videojuegos, el nombre de una categoría de videojuegos y un número de cuatro dígitos representando una década de años. La función deberá leer el archivo y retorna una matriz donde las filas representan los juegos de categoría para la década , las columnas representan las consolas que tienen juegos de categoría para la década y las\n",
    "celdas son las calificaciones de cada juego para cada consola. Si un juego no\n",
    "existe para una consola, su calificación deberá ser cero (0)."
   ]
  },
  {
   "cell_type": "code",
   "execution_count": 89,
   "id": "0fad4b87",
   "metadata": {
    "scrolled": true
   },
   "outputs": [
    {
     "name": "stdout",
     "output_type": "stream",
     "text": [
      "['ï»¿Nombre', 'AÃƒÂ±o', 'Consola', 'Calificacion', 'Tags(separados por ']\n",
      "['The Legend of Zelda', '1986', 'Famicom Disk System', '3.5', 'RPG']\n",
      "['Double Dragon', '1987', 'Arcade', '3.7', \"Beat-'em up\"]\n",
      "['The Legend of Zelda', '1988', 'NES', '4.3', 'RPG']\n",
      "['Halo 5: Guardians', '2015', 'Xbox One', '4', 'FPS']\n",
      "['Curse of Ra', '1982', 'Commodore PET', '3', 'RPG']\n",
      "['Battlefield 1', '2016', 'Xbox One', '4.8', 'FPS']\n"
     ]
    }
   ],
   "source": [
    "import csv\n",
    "with open('videojuegos2_.csv', newline='') as File:\n",
    "    reader = csv.reader(File)\n",
    "    for row in reader:\n",
    "        print(row)"
   ]
  },
  {
   "cell_type": "code",
   "execution_count": 90,
   "id": "9730101d",
   "metadata": {},
   "outputs": [
    {
     "name": "stdout",
     "output_type": "stream",
     "text": [
      "[['-------------------', 'Famicom Disk System', 'Arcade', 'NES', 'Xbox One', 'Commodore PET', 'Xbox One'], ['The Legend of Zelda', '3.5', 0, 0, 0, 0, 0], ['Double Dragon', 0, '3.7', 0, 0, 0, 0], ['The Legend of Zelda', 0, 0, '4.3', 0, 0, 0], ['Halo 5: Guardians', 0, 0, 0, '4', 0, 0], ['Curse of Ra', 0, 0, 0, 0, '3', 0], ['Battlefield 1', 0, 0, 0, 0, 0, '4.8']]\n",
      "\n",
      "\n",
      "['-------------------', 'Famicom Disk System', 'Arcade', 'NES', 'Xbox One', 'Commodore PET', 'Xbox One']\n",
      "['The Legend of Zelda', '3.5', 0, 0, 0, 0, 0]\n",
      "['Double Dragon', 0, '3.7', 0, 0, 0, 0]\n",
      "['The Legend of Zelda', 0, 0, '4.3', 0, 0, 0]\n",
      "['Halo 5: Guardians', 0, 0, 0, '4', 0, 0]\n",
      "['Curse of Ra', 0, 0, 0, 0, '3', 0]\n",
      "['Battlefield 1', 0, 0, 0, 0, 0, '4.8']\n"
     ]
    }
   ],
   "source": [
    "import numpy as np\n",
    "\n",
    "def juegosConsolas(nomArchivo, categoria, decada):\n",
    "#Abrir archivo\n",
    "    with open(nomArchivo, \"r\") as archivo:\n",
    "        lector = csv.reader(archivo, delimiter=\",\")\n",
    "        # Tomar el archivo menos la primera fila con descripcion \n",
    "        next(lector, None)\n",
    "        #Valores iniciales\n",
    "        L1 = [\"-------------------\"] \n",
    "        L2 = []\n",
    "        L3 = []\n",
    "        L4 = []\n",
    "        L5 = []\n",
    "        L6 = []\n",
    "        L7 = []\n",
    "        L = [L1, L2, L3, L4, L5, L6,L7]\n",
    "        n = 0\n",
    "        #Iniciar el cilco for \n",
    "        for i in lector: \n",
    "            #Sumatoria\n",
    "            n = n + 1\n",
    "            #Agregar los titulos de las columnas\n",
    "            L1.append(i[2])\n",
    "            if n == 1:\n",
    "                #Agregar titulo de la fila\n",
    "                L2.append(i[0])\n",
    "                #Agregar el valor de la categoria\n",
    "                L2.append(i[3])\n",
    "                #Agregar los valores restantes en cero\n",
    "                for x in range(len(row)-n+1):\n",
    "                    L2.append(0)\n",
    "            if n == 2:\n",
    "                L3.append(i[0])\n",
    "                for x in range(n-1):\n",
    "                    L3.append(0)\n",
    "                L3.append(i[3])\n",
    "                for x in range(len(row)-n+1):\n",
    "                    L3.append(0)             \n",
    "            if n == 3:\n",
    "                L4.append(i[0])\n",
    "                for x in range(n-1):\n",
    "                    L4.append(0)\n",
    "                L4.append(i[3])\n",
    "                for x in range(len(row)-n+1):\n",
    "                    L4.append(0)\n",
    "            if n == 4:\n",
    "                L5.append(i[0])\n",
    "                for x in range(n-1):\n",
    "                    L5.append(0)\n",
    "                L5.append(i[3])\n",
    "                for x in range(len(row)-n+1):\n",
    "                    L5.append(0)\n",
    "            if n == 5:\n",
    "                L6.append(i[0])\n",
    "                for x in range(n-1):\n",
    "                    L6.append(0)\n",
    "                L6.append(i[3])\n",
    "                for x in range(len(row)-n+1):\n",
    "                    L6.append(0)\n",
    "            if n == 6:\n",
    "                L7.append(i[0])\n",
    "                for x in range(n-1):\n",
    "                    L7.append(0)\n",
    "                L7.append(i[3])\n",
    "                for x in range(len(row)-n+1):\n",
    "                    L7.append(0)\n",
    "        #Mostrar matriz\n",
    "        print(L)\n",
    "        print(f\"\\n\")\n",
    "        #Mostrar la matriz mas ordenada\n",
    "        print(L[0])\n",
    "        print(L[1])\n",
    "        print(L[2])\n",
    "        print(L[3])\n",
    "        print(L[4])\n",
    "        print(L[5])\n",
    "        print(L[6])\n",
    "                     \n",
    "juegosConsolas(\"videojuegos2_.csv\", \"RPG\", 1980) "
   ]
  }
 ],
 "metadata": {
  "kernelspec": {
   "display_name": "Python 3 (ipykernel)",
   "language": "python",
   "name": "python3"
  },
  "language_info": {
   "codemirror_mode": {
    "name": "ipython",
    "version": 3
   },
   "file_extension": ".py",
   "mimetype": "text/x-python",
   "name": "python",
   "nbconvert_exporter": "python",
   "pygments_lexer": "ipython3",
   "version": "3.10.9"
  }
 },
 "nbformat": 4,
 "nbformat_minor": 5
}
