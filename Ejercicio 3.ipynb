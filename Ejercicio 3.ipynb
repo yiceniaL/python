{
 "cells": [
  {
   "cell_type": "markdown",
   "id": "4fdb1c43",
   "metadata": {},
   "source": [
    "1. Dada la lista L = [\"almacenar\", 8, \"a\", [1,2,3], True,\n",
    "(0,0,1), 85.7]"
   ]
  },
  {
   "cell_type": "markdown",
   "id": "fc29364b",
   "metadata": {},
   "source": [
    "    a. ¿Cuál de estos elementos pertenece a ella? 85.7 True [(0,0,1)] [1,2,3] 0 [True] 85 \"a\""
   ]
  },
  {
   "cell_type": "markdown",
   "id": "ef8cb531",
   "metadata": {},
   "source": [
    "        Los elementos que pertenecen son: 85.7 [1,2,3] \"a\""
   ]
  },
  {
   "cell_type": "markdown",
   "id": "e741d968",
   "metadata": {},
   "source": [
    "    b. ¿Cómo obtener la posición en que se encuentra el elemento\n",
    "    (0,0,1)?"
   ]
  },
  {
   "cell_type": "code",
   "execution_count": 83,
   "id": "e56b0137",
   "metadata": {},
   "outputs": [
    {
     "data": {
      "text/plain": [
       "5"
      ]
     },
     "execution_count": 83,
     "metadata": {},
     "output_type": "execute_result"
    }
   ],
   "source": [
    "L = [\"almacenar\", 8, \"a\", [1,2,3], True, (0,0,1), 85.7]\n",
    "\n",
    "#Encontrar la posicon\n",
    "L.index((0,0,1), 0, 7)"
   ]
  },
  {
   "cell_type": "markdown",
   "id": "783de80a",
   "metadata": {},
   "source": [
    "        Se encuentra en la posicion 5. "
   ]
  },
  {
   "cell_type": "markdown",
   "id": "28dd51dc",
   "metadata": {},
   "source": [
    "    c. ¿Cómo eliminar el último elemento, independientemente de\n",
    "    cuántos elementos haya en la lista?"
   ]
  },
  {
   "cell_type": "code",
   "execution_count": 5,
   "id": "de41ffc3",
   "metadata": {},
   "outputs": [
    {
     "data": {
      "text/plain": [
       "['almacenar', 8, 'a', [1, 2, 3], True, (0, 0, 1)]"
      ]
     },
     "execution_count": 5,
     "metadata": {},
     "output_type": "execute_result"
    }
   ],
   "source": [
    "L.pop()\n",
    "L"
   ]
  },
  {
   "cell_type": "markdown",
   "id": "13622135",
   "metadata": {},
   "source": [
    "    d. Utilizar una operación para contar cuántas veces aparece el string\n",
    "    “a”. ¿Cuál será el resultado?"
   ]
  },
  {
   "cell_type": "code",
   "execution_count": 64,
   "id": "334d5e3c",
   "metadata": {},
   "outputs": [
    {
     "data": {
      "text/plain": [
       "1"
      ]
     },
     "execution_count": 64,
     "metadata": {},
     "output_type": "execute_result"
    }
   ],
   "source": [
    "L.count('a')"
   ]
  },
  {
   "cell_type": "markdown",
   "id": "bdd7881b",
   "metadata": {},
   "source": [
    "    El string “a” aparece 1 vez."
   ]
  },
  {
   "cell_type": "markdown",
   "id": "45266d09",
   "metadata": {},
   "source": [
    "2. Escribir un programa que pida al usuario una palabra y muestre por\n",
    "pantalla si es un palíndromo."
   ]
  },
  {
   "cell_type": "code",
   "execution_count": 85,
   "id": "96bcbbfc",
   "metadata": {},
   "outputs": [
    {
     "name": "stdout",
     "output_type": "stream",
     "text": [
      "Ingresa una palabra dd\n",
      "La palabra  dd  es un palíndromo\n"
     ]
    }
   ],
   "source": [
    "#palíndromo, palabra que al reves y derecho es lo mismo\n",
    "#Ingresa la plabra solo como variable\n",
    "p = input(\"Ingresa una palabra \")\n",
    "reves = p\n",
    "\n",
    "#Crea las listas de cada letra\n",
    "palabra = list(p)\n",
    "reves = list(reves)\n",
    "\n",
    "#Da vuelta la lista \n",
    "reves.reverse()\n",
    "\n",
    "#Compara que la lista al reves y derecho sean iguales\n",
    "if palabra == reves:\n",
    "    print(\"La palabra \", p, \" es un palíndromo\")\n",
    "else:\n",
    "    print(\"La palabra \", p, \" no es un palíndromo\")"
   ]
  },
  {
   "cell_type": "markdown",
   "id": "5f1e9a1b",
   "metadata": {},
   "source": [
    "3. Escribir un programa que almacene en una lista los números del 1 al 10\n",
    "y los muestre por pantalla en orden inverso separados por comas."
   ]
  },
  {
   "cell_type": "code",
   "execution_count": 69,
   "id": "82689716",
   "metadata": {},
   "outputs": [
    {
     "name": "stdout",
     "output_type": "stream",
     "text": [
      "10 , 9 , 8 , 7 , 6 , 5 , 4 , 3 , 2 , 1 , "
     ]
    }
   ],
   "source": [
    "#Definir la lista\n",
    "Lista = [1, 2, 3, 4, 5, 6, 7, 8, 9, 10]\n",
    "\n",
    "#Dar vuelta la lista\n",
    "Lista.reverse()\n",
    "\n",
    "#Con la lista ya dada vuelta separar los valores por comas\n",
    "for i in Lista:\n",
    "    print(i, end=\" , \")"
   ]
  },
  {
   "cell_type": "markdown",
   "id": "c3931195",
   "metadata": {},
   "source": [
    "4. Escribir un programa que almacene las asignaturas de un curso (por ejemplo Matemáticas, Física, Química, Historia y Lengua) en una lista, pregunte al usuario la nota que ha sacado en cada asignatura, y después las muestre por pantalla con el mensaje En <asignatura> has sacado <nota> donde <asignatura> es cada una de las asignaturas de la lista y <nota> cada una de las correspondientes notas introducidas por el usuario."
   ]
  },
  {
   "cell_type": "code",
   "execution_count": 150,
   "id": "6bed7fe5",
   "metadata": {},
   "outputs": [
    {
     "name": "stdout",
     "output_type": "stream",
     "text": [
      "Ingresa la nota de Matemáticas 5,2\n",
      "Ingresa la nota de Física 5,9\n",
      "Ingresa la nota de Química 2,4\n",
      "Ingresa la nota de Historia 7\n",
      "Ingresa la nota de Lengua 6,4\n",
      "\n",
      "\n",
      "La nota de Matemáticas es 5,2\n",
      "La nota de Física es 5,9\n",
      "La nota de Química es 2,4\n",
      "La nota de Historia es 7\n",
      "La nota de Lengua es 6,4\n"
     ]
    }
   ],
   "source": [
    "#Lista de cusrsos\n",
    "Curso = [\"Matemáticas\", \"Física\", \"Química\", \"Historia\", \"Lengua\"]\n",
    "\n",
    "#Valores iniciales y lista vacia\n",
    "a = -1\n",
    "b = -1\n",
    "Nota = []\n",
    "\n",
    "#Preguntar cada nota y agregarla a una lista\n",
    "for i in Curso:\n",
    "    a = a + 1\n",
    "    DatoNota = input(\"Ingresa la nota de \" + Curso[a] +\" \")\n",
    "    Nota.append(DatoNota)\n",
    "#Salto de espacio\n",
    "print(f\"\\n\")\n",
    "#Entregar la infromacion de la nota de cada curso\n",
    "for i in Curso:\n",
    "    b = b + 1\n",
    "    print(\"La nota de \" + Curso[b] +\" es \" + Nota[b])"
   ]
  },
  {
   "cell_type": "markdown",
   "id": "a35f5eeb",
   "metadata": {},
   "source": [
    "5. Escribir un programa que almacene las matrices en una lista y muestre por pantalla su producto. \n",
    "Nota: Para representar matrices mediante listas usar listas anidadas,\n",
    "representando cada vector fila en una lista."
   ]
  },
  {
   "cell_type": "code",
   "execution_count": 189,
   "id": "f1fba3b6",
   "metadata": {},
   "outputs": [
    {
     "name": "stdout",
     "output_type": "stream",
     "text": [
      "[[2, 5], [2, 11]]\n"
     ]
    }
   ],
   "source": [
    "#Matrices a evaluar\n",
    "A = [[1, 2, 3], [4, 5, 6]] \n",
    "B = [[-1, 0], [0, 1], [1,1]]\n",
    "\n",
    "#Donde van los valores resultado de la matriz\n",
    "C = [[0,0], [0,0]]\n",
    "\n",
    "#Evaluar e producto de la matriz\n",
    "#Volor a multiplicar a la matriz A en la fila\n",
    "for vector_i in range(2):\n",
    "    #Volor a multiplicar a la matriz B en la fila\n",
    "    for vector_j in range(2):\n",
    "        #Volor a multiplicar a la matriz B en la columna\n",
    "        for vector_k in range(3):\n",
    "            #Colocar el resultado de la multiplicacion en la lista C, rellena de ceros\n",
    "            C[vector_i][vector_j] += A[vector_i][vector_k] * B[vector_k][vector_j]\n",
    "            \n",
    "#Resultado de la multiplicacion\n",
    "print(C)"
   ]
  },
  {
   "cell_type": "markdown",
   "id": "437e592b",
   "metadata": {},
   "source": [
    "6. Escribir un programa que guarde en una variable el diccionario {'Euro':'€', 'Dollar':'$', 'Yen':'¥'}, pregunte al usuario por una divisa y muestre su símbolo o un mensaje de aviso si la divisa no está en\n",
    "el diccionario."
   ]
  },
  {
   "cell_type": "code",
   "execution_count": 202,
   "id": "e1e5b5c0",
   "metadata": {},
   "outputs": [
    {
     "name": "stdout",
     "output_type": "stream",
     "text": [
      "Ingresa la divisa a evaluar Yen\n",
      "La divisa Yen existe en el diccionario ¥\n"
     ]
    }
   ],
   "source": [
    "#Pedir que ingrese el valor a evaluar\n",
    "EvaluarDivisa = input(\"Ingresa la divisa a evaluar \")\n",
    "#Valores que existen en el diccionario\n",
    "Diccionario = {'Euro':'€', 'Dollar':'$', 'Yen':'¥'}\n",
    "\n",
    "#Si se encuentra en el diccionario indicar cual es \n",
    "if EvaluarDivisa.title() in Diccionario:\n",
    "    print(\"La divisa \"+ EvaluarDivisa +\" existe en el diccionario \" +Diccionario[EvaluarDivisa.title()])\n",
    "#Si no se encuentra en el diccionario indicar que no existe   \n",
    "else:\n",
    "    print(\"La divisa \"+ EvaluarDivisa +\" no existe en el diccionario\")"
   ]
  },
  {
   "cell_type": "markdown",
   "id": "b263e38c",
   "metadata": {},
   "source": [
    "7. Escribir un programa que pregunte una fecha en\n",
    "formato dd/mm/aaaa y muestre por pantalla la misma fecha en\n",
    "formato dd de <mes> de aaaa donde <mes> es el nombre del mes."
   ]
  },
  {
   "cell_type": "code",
   "execution_count": 211,
   "id": "0ef242aa",
   "metadata": {},
   "outputs": [
    {
     "name": "stdout",
     "output_type": "stream",
     "text": [
      "Ingresa la fecha como el siguente ejemplo 24/05/1996 15/06/2023\n",
      "El nuevo formato de fecha es 15 de Noviembre de 2023\n"
     ]
    }
   ],
   "source": [
    "#Pedir que ingrese el formato a evaluar\n",
    "Ingreso_fecha = input('Ingresa la fecha como el siguente ejemplo 24/05/1996 ')\n",
    "#Valores que existen en el diccionario de los meses\n",
    "mes = {1:'Enero', \n",
    "       2:'Febrero', \n",
    "       3:'Marzo', \n",
    "       4:'Abril', \n",
    "       5:'Mayo', \n",
    "       6:'Junio', \n",
    "       7:'Julio', \n",
    "       8:'Agosto', \n",
    "       9:'Septiembre', \n",
    "       10:'Octubre', \n",
    "       11:'Noviembre', \n",
    "       12:'Diciembre'}\n",
    "\n",
    "#Separa los elementos por el /\n",
    "Ingreso_fecha = Ingreso_fecha.split('/')\n",
    "#Resultado del fromato de la fecha\n",
    "print('El nuevo formato de fecha es '+ Ingreso_fecha[0] + ' de '+ mes[int(fecha[1])]+ ' de '+ Ingreso_fecha[2])"
   ]
  }
 ],
 "metadata": {
  "kernelspec": {
   "display_name": "Python 3 (ipykernel)",
   "language": "python",
   "name": "python3"
  },
  "language_info": {
   "codemirror_mode": {
    "name": "ipython",
    "version": 3
   },
   "file_extension": ".py",
   "mimetype": "text/x-python",
   "name": "python",
   "nbconvert_exporter": "python",
   "pygments_lexer": "ipython3",
   "version": "3.10.9"
  }
 },
 "nbformat": 4,
 "nbformat_minor": 5
}
